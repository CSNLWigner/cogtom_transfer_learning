{
 "cells": [
  {
   "cell_type": "markdown",
   "id": "f7ab78d9",
   "metadata": {},
   "source": [
    "# Cross-Entropy of the Hidden States"
   ]
  },
  {
   "cell_type": "markdown",
   "id": "2d3e83d0",
   "metadata": {},
   "source": [
    "### Workflow\n",
    "1. Simulate the transition matrix with 1m step. \n",
    "2. Calculate entropy for the states. "
   ]
  },
  {
   "cell_type": "code",
   "execution_count": 1,
   "id": "e4e6a21f",
   "metadata": {},
   "outputs": [],
   "source": [
    "%matplotlib inline"
   ]
  },
  {
   "cell_type": "code",
   "execution_count": 4,
   "id": "5d0ef709",
   "metadata": {
    "scrolled": true
   },
   "outputs": [],
   "source": [
    "import numpy as np\n",
    "import scipy as sp\n",
    "import os\n",
    "import pickle as pkl\n",
    "from pandas.core.computation.check import NUMEXPR_INSTALLED\n",
    "import pandas as pd\n",
    "import timeit\n",
    "import matplotlib.pyplot as plt\n",
    "import seaborn as sns\n",
    "from scipy import stats\n",
    "import sys\n",
    "sys.path.append('../..')\n",
    "from plot_params import*\n",
    "from helper import*\n",
    "from data_import import*\n",
    "pp = PlotParams()\n",
    "import copy\n",
    "import matplotlib.image as image\n",
    "import matplotlib as mpl\n",
    "from paths import*\n",
    "paths = paths()"
   ]
  },
  {
   "cell_type": "code",
   "execution_count": 5,
   "id": "427148c1",
   "metadata": {},
   "outputs": [],
   "source": [
    "f4_path = paths.f4_path +'/4e9c1cf'"
   ]
  },
  {
   "cell_type": "code",
   "execution_count": 6,
   "id": "f434a49d",
   "metadata": {},
   "outputs": [],
   "source": [
    "data = pd.read_csv(f4_path + '/NOGTHSH_LEARNING_CURVES_4e9c1cf_8A_learning_curves_pred_prob.csv', index_col=[0])"
   ]
  },
  {
   "cell_type": "code",
   "execution_count": 7,
   "id": "c7639d03",
   "metadata": {
    "scrolled": true
   },
   "outputs": [
    {
     "data": {
      "text/plain": [
       "(1565700, 21)"
      ]
     },
     "execution_count": 7,
     "metadata": {},
     "output_type": "execute_result"
    }
   ],
   "source": [
    "data.shape"
   ]
  },
  {
   "cell_type": "code",
   "execution_count": 8,
   "id": "a407681a",
   "metadata": {},
   "outputs": [],
   "source": [
    "## Filter data\n",
    "data.rename(columns = {'participant_train': 'participant'}, inplace=True)\n",
    "data = data.loc[data['trial_type'] != 'Prac']\n",
    "data = drop_RTs_above_3std_below_180(data)"
   ]
  },
  {
   "cell_type": "code",
   "execution_count": 9,
   "id": "5076a8c6",
   "metadata": {
    "scrolled": false
   },
   "outputs": [],
   "source": [
    "#data.rename(columns = {'participant': 'participant_train'}, inplace=True)"
   ]
  },
  {
   "cell_type": "markdown",
   "id": "8180b686",
   "metadata": {},
   "source": [
    "### Create generative probabilities "
   ]
  },
  {
   "cell_type": "code",
   "execution_count": 10,
   "id": "a691ef25",
   "metadata": {},
   "outputs": [],
   "source": [
    "gen_probs_data = get_gen_probs(data)"
   ]
  },
  {
   "cell_type": "markdown",
   "id": "d00e9537",
   "metadata": {},
   "source": [
    "## Get the pred probs in in the right shape both for iHMM and Markov"
   ]
  },
  {
   "cell_type": "code",
   "execution_count": 11,
   "id": "27c41c5d",
   "metadata": {},
   "outputs": [],
   "source": [
    "iHMM_data = data.loc[data['model'] == 'iHMM'][['participant_test', 'e_train', 'block', 'ini', 'trial', 'y0', 'y1', 'y2', 'y3']]\n",
    "Markov_data = data.loc[data['model'] == 'Markov'][['participant_test', 'e_train', 'block', 'ini', 'trial', 'y0', 'y1', 'y2', 'y3']]\n",
    "gen_probs = gen_probs_data[['participant_test', 'e_train', 'block', 'ini', 'trial', 'y0', 'y1', 'y2', 'y3']]"
   ]
  },
  {
   "cell_type": "code",
   "execution_count": 12,
   "id": "af2d9293",
   "metadata": {},
   "outputs": [],
   "source": [
    "iHMM_data.set_index(['participant_test', 'e_train', 'block', 'ini', 'trial'], inplace = True)\n",
    "Markov_data.set_index(['participant_test', 'e_train', 'block', 'ini', 'trial'], inplace = True)\n",
    "gen_probs.set_index(['participant_test', 'e_train', 'block', 'ini', 'trial'], inplace = True)"
   ]
  },
  {
   "cell_type": "code",
   "execution_count": 13,
   "id": "b1e32862",
   "metadata": {},
   "outputs": [],
   "source": [
    "iHMM_data.columns = pd.MultiIndex.from_product([['iHMM'], iHMM_data.columns.to_list()])\n",
    "Markov_data.columns = pd.MultiIndex.from_product([['Markov'], Markov_data.columns.to_list()])\n",
    "gen_probs.columns = pd.MultiIndex.from_product([['generative_probs'], gen_probs.columns.to_list()])\n",
    "## Without the multiindex solution: \n",
    "#pred_probs = iHMM_data.join(Markov_data, lsuffix = '_iHMM', rsuffix = '_Markov')"
   ]
  },
  {
   "cell_type": "code",
   "execution_count": 14,
   "id": "ac6a5ccf",
   "metadata": {},
   "outputs": [],
   "source": [
    "pred_probs = pd.concat([iHMM_data, Markov_data, gen_probs], axis=1, join=\"inner\")"
   ]
  },
  {
   "cell_type": "markdown",
   "id": "45bba33b",
   "metadata": {},
   "source": [
    "## Calculate cross entropy column-wise"
   ]
  },
  {
   "cell_type": "markdown",
   "id": "bc8a8ab9",
   "metadata": {},
   "source": [
    "# Cross entropy: $H(P, Q) = -\\sum (P ln (Q))$"
   ]
  },
  {
   "cell_type": "code",
   "execution_count": 15,
   "id": "b8308e76",
   "metadata": {},
   "outputs": [],
   "source": [
    "days_int = {'11_20':1,\n",
    "            '36_45':2,\n",
    "            '61_70':3,\n",
    "            '86_95':4,\n",
    "            '111_120':5,\n",
    "            '136_145':6,\n",
    "            '161_170':7,\n",
    "            '186_195':8}"
   ]
  },
  {
   "cell_type": "code",
   "execution_count": 16,
   "id": "2a704cd0",
   "metadata": {},
   "outputs": [],
   "source": [
    "def p_times_log_q(p, q):\n",
    "    return (p*np.log(q+1e-16))"
   ]
  },
  {
   "cell_type": "code",
   "execution_count": 17,
   "id": "dbd454bd",
   "metadata": {},
   "outputs": [],
   "source": [
    "## NB! Pay attention which models' predictions identified with P and Q"
   ]
  },
  {
   "cell_type": "code",
   "execution_count": 18,
   "id": "eaa85bb9",
   "metadata": {},
   "outputs": [],
   "source": [
    "def calculate_cross_entropy(P, Q):\n",
    "    #p_ln_q_prod = [p_times_log_q(pred_probs.Markov[y], pred_probs.iHMM[y]) for y in ['y0', 'y1', 'y2', 'y3']]\n",
    "    p_ln_q_prod = [p_times_log_q(P[y], Q[y]) for y in ['y0', 'y1', 'y2', 'y3']]\n",
    "    cross_entropy =  pd.concat([pd.DataFrame(item) for item in p_ln_q_prod], axis = 1)\n",
    "\n",
    "\n",
    "    cross_entropy['cross_entropy'] = cross_entropy[['y0', 'y1', 'y2', 'y3']].sum(axis = 1)*-1 ## we sum up the cross entripy for y0, y1, and so on. \n",
    "    cross_entropy.reset_index(inplace = True)\n",
    "    cross_entropy = cross_entropy[['participant_test', 'e_train', 'cross_entropy']].groupby(['participant_test', 'e_train']).mean()\n",
    "    cross_entropy.reset_index(inplace = True)\n",
    "    cross_entropy['day'] = cross_entropy['e_train'].map(days_int)\n",
    "\n",
    "    return cross_entropy"
   ]
  },
  {
   "cell_type": "code",
   "execution_count": 19,
   "id": "cb11557b",
   "metadata": {},
   "outputs": [],
   "source": [
    "def subset_for_selected_days(CE_data, column_label, days = [1, 8]):\n",
    "    CE_data.sort_values(['day', 'participant_test'], inplace=True)\n",
    "    CE_data = CE_data.loc[CE_data['day'].isin(days)]\n",
    "    CE_data = CE_data.set_index(['day', 'participant_test'])\n",
    "    CE_data.drop('e_train', axis = 1, inplace=True)\n",
    "    CE_data = CE_data.unstack(0)\n",
    "    CE_data = CE_data.droplevel(0, axis = 1)\n",
    "    CE_data.columns = pd.MultiIndex.from_product([[column_label], CE_data.columns.to_list()])\n",
    "    return CE_data"
   ]
  },
  {
   "cell_type": "code",
   "execution_count": 20,
   "id": "a9ade489",
   "metadata": {},
   "outputs": [],
   "source": [
    "CE_Markov_CT = calculate_cross_entropy(pred_probs.Markov, pred_probs.iHMM)\n",
    "CE_gen_probs_CT = calculate_cross_entropy(pred_probs.generative_probs, pred_probs.iHMM)"
   ]
  },
  {
   "cell_type": "code",
   "execution_count": 21,
   "id": "5805cfd2",
   "metadata": {},
   "outputs": [],
   "source": [
    "CE_Markov_CT_d1_d8 = subset_for_selected_days(CE_Markov_CT, 'CE_Markov_CT', days = [1, 8])\n",
    "CE_gen_probs_CT_d1_d8 = subset_for_selected_days(CE_gen_probs_CT, 'CE_gen_probs_CT', days = [1, 8])"
   ]
  },
  {
   "cell_type": "code",
   "execution_count": 22,
   "id": "6c198b75",
   "metadata": {},
   "outputs": [],
   "source": [
    "cross_entropy = pd.concat([CE_gen_probs_CT_d1_d8, CE_Markov_CT_d1_d8], axis=1, join=\"inner\")"
   ]
  },
  {
   "cell_type": "markdown",
   "id": "1d2449f2",
   "metadata": {},
   "source": [
    "## PLOT CE(GEN PROBS||CT) vs. CE(Markov||CT)"
   ]
  },
  {
   "cell_type": "code",
   "execution_count": 23,
   "id": "7b2af6c2",
   "metadata": {
    "scrolled": true
   },
   "outputs": [
    {
     "data": {
      "text/html": [
       "<div>\n",
       "<style scoped>\n",
       "    .dataframe tbody tr th:only-of-type {\n",
       "        vertical-align: middle;\n",
       "    }\n",
       "\n",
       "    .dataframe tbody tr th {\n",
       "        vertical-align: top;\n",
       "    }\n",
       "\n",
       "    .dataframe thead tr th {\n",
       "        text-align: left;\n",
       "    }\n",
       "</style>\n",
       "<table border=\"1\" class=\"dataframe\">\n",
       "  <thead>\n",
       "    <tr>\n",
       "      <th></th>\n",
       "      <th>index</th>\n",
       "      <th colspan=\"2\" halign=\"left\">CE_gen_probs_CT</th>\n",
       "      <th colspan=\"2\" halign=\"left\">CE_Markov_CT</th>\n",
       "    </tr>\n",
       "    <tr>\n",
       "      <th></th>\n",
       "      <th></th>\n",
       "      <th>1.0</th>\n",
       "      <th>8.0</th>\n",
       "      <th>1.0</th>\n",
       "      <th>8.0</th>\n",
       "    </tr>\n",
       "  </thead>\n",
       "  <tbody>\n",
       "    <tr>\n",
       "      <th>0</th>\n",
       "      <td>110</td>\n",
       "      <td>1.62192</td>\n",
       "      <td>1.398902</td>\n",
       "      <td>0.867607</td>\n",
       "      <td>1.080743</td>\n",
       "    </tr>\n",
       "  </tbody>\n",
       "</table>\n",
       "</div>"
      ],
      "text/plain": [
       "  index CE_gen_probs_CT           CE_Markov_CT          \n",
       "                    1.0       8.0          1.0       8.0\n",
       "0   110         1.62192  1.398902     0.867607  1.080743"
      ]
     },
     "execution_count": 23,
     "metadata": {},
     "output_type": "execute_result"
    }
   ],
   "source": [
    "pd.DataFrame(cross_entropy.loc[110, :]).transpose().reset_index()"
   ]
  },
  {
   "cell_type": "code",
   "execution_count": 24,
   "id": "f1726e0d",
   "metadata": {},
   "outputs": [],
   "source": [
    "def annotate(highlighted, day, x_text = 1.6):\n",
    "    y_text = 1.3\n",
    "    for i in highlighted:\n",
    "        sns_plot.annotate(i, (cross_entropy.loc[i, ('CE_gen_probs_CT', day)],\n",
    "                              cross_entropy.loc[i, ('CE_Markov_CT', day)]),\n",
    "                        fontsize = 11, \n",
    "                        arrowprops=dict(width = 0.000001, headwidth = 0.2, facecolor='black', shrink=0.05),\n",
    "                        xytext=(x_text, y_text))\n",
    "        y_text -= 0.12"
   ]
  },
  {
   "cell_type": "code",
   "execution_count": 25,
   "id": "a424700e",
   "metadata": {},
   "outputs": [
    {
     "data": {
      "image/png": "[encoded data removed]",
      "text/plain": [
       "<Figure size 576x216 with 2 Axes>"
      ]
     },
     "metadata": {},
     "output_type": "display_data"
    }
   ],
   "source": [
    "fig, ax = plt.subplots(1, 2, figsize = (8, 3), facecolor = 'white')\n",
    "highlighted = [119, 102, 110]\n",
    "\n",
    "\n",
    "########################################################\n",
    "####### D1 PLOT\n",
    "########################################################\n",
    "\n",
    "## Draw all the datapoints\n",
    "sns_plot = sns.scatterplot(ax = ax[0], data = cross_entropy, x = cross_entropy.CE_gen_probs_CT[1],\n",
    "                           y = cross_entropy.CE_Markov_CT[1])\n",
    "\n",
    "## Draw the highlighted datapoints\n",
    "sns_plot = sns.scatterplot(ax = ax[0], data = cross_entropy.loc[highlighted, :], \n",
    "                           x = cross_entropy.loc[highlighted, :].CE_gen_probs_CT[1],\n",
    "                           y = cross_entropy.loc[highlighted, :].CE_Markov_CT[1], color = 'orange')\n",
    "\n",
    "## Set subplot specific values\n",
    "sns_plot.set_ylabel('CE(Markov || CT)', fontsize = 16)\n",
    "sns_plot.set_title('D1', fontsize = 14)\n",
    "\n",
    "\n",
    "## Annotate the highlighted participants\n",
    "annotate(highlighted, 1)\n",
    "\n",
    "\n",
    "########################################################\n",
    "####### D8 PLOT\n",
    "########################################################\n",
    "## Draw all the datapoints\n",
    "sns_plot = sns.scatterplot(ax = ax[1], data = cross_entropy, x = cross_entropy.CE_gen_probs_CT[8],\n",
    "                           y = cross_entropy.CE_Markov_CT[8])\n",
    "sns_plot.set_ylabel(None)\n",
    "\n",
    "\n",
    "## Draw the highlighted datapoints\n",
    "sns_plot = sns.scatterplot(ax = ax[1], data = cross_entropy.loc[highlighted, :], \n",
    "                           x = cross_entropy.loc[highlighted, :].CE_gen_probs_CT[8],\n",
    "                           y = cross_entropy.loc[highlighted, :].CE_Markov_CT[8], color = 'orange')\n",
    "sns_plot.set_ylabel(None)\n",
    "sns_plot.set_title('D8',fontsize = 14)\n",
    "## Annotate the highlighted participants\n",
    "annotate(highlighted, 8, x_text=1.5)\n",
    "\n",
    "\n",
    "for ax in fig.axes:\n",
    "\n",
    "    ## set ticks tick labels and axis labels\n",
    "    ax.set_xlim(1.17, 1.7)\n",
    "    ax.set_ylim(0.8, 1.4)\n",
    "    ax.set_xticks([1.2, 1.4, 1.6])\n",
    "    ax.set_xticklabels([1.2, 1.4, 1.6], fontsize = 12)\n",
    "    ax.set_yticks([0.8, 1, 1.2, 1.4])\n",
    "    ax.set_yticklabels([0.8, 1.0, 1.2, 1.4], fontsize = 12)\n",
    "    ax.set_xlabel(None)\n",
    "    \n",
    "    \n",
    "    ##\n",
    "    for y_line in np.linspace(0.8, 1.6, 9):\n",
    "        ax.axhline(y = y_line, color = 'black', lw = 0.2)\n",
    "        \n",
    "    for x_line in np.arange(1.2, 1.8, 0.1):\n",
    "        ax.axvline(x = x_line, color = 'black', lw = 0.2)\n",
    "        \n",
    "\n",
    "\n",
    "    \n",
    "    \n",
    "    \n",
    "plt.subplots_adjust(wspace=0.4)\n",
    "sns.despine()\n",
    "plt.text(0.6, 0.62,'CE(Generative probabilities || CT)', fontsize = 16)\n",
    "plt.suptitle('Cross Entropy of the Generative and CT probabilities,\\nand the Markov and CT probabilities on D1 and D8',\n",
    "            y = 1.15, fontsize = 16)\n",
    "\n",
    "plt.savefig(paths.plot_save_path +'hidden_states/' + 'Cross_entropy_PlosCB_fig6gh_reproduce.png', bbox_inches='tight');"
   ]
  },
  {
   "cell_type": "code",
   "execution_count": 26,
   "id": "1443d9c4",
   "metadata": {},
   "outputs": [
    {
     "data": {
      "image/png": "[encoded data removed]",
      "text/plain": [
       "<Figure size 288x288 with 1 Axes>"
      ]
     },
     "metadata": {},
     "output_type": "display_data"
    }
   ],
   "source": [
    "fig, ax = plt.subplots(1, 1, figsize = (4, 4), facecolor = 'white')\n",
    "sns_plot = sns.scatterplot(data = cross_entropy, x = cross_entropy.CE_gen_probs_CT[1],\n",
    "                           y = cross_entropy.CE_Markov_CT[1], label = \"D1\", s= 60)\n",
    "\n",
    "sns_plot.set_ylabel('CE(Markov || CT)', fontsize = 16)\n",
    "\n",
    "\n",
    "sns_plot = sns.scatterplot(data = cross_entropy, x = cross_entropy.CE_gen_probs_CT[8],\n",
    "                           y = cross_entropy.CE_Markov_CT[8], label = \"D8\", s= 60)\n",
    "\n",
    "for ax in fig.axes:\n",
    "    ax.set_ylim(0.8, 1.4)\n",
    "    ax.set_xlim(1.2, 1.55)\n",
    "    ax.set_xlabel('CE(Gen. Probs|| CT)', fontsize = 16)\n",
    "    ax.set_xticks([1.3, 1.4, 1.5])\n",
    "    ax.set_xticklabels([1.3, 1.4, 1.5], fontsize = 12)\n",
    "    ax.set_yticks([1, 1.2, 1.4])\n",
    "    ax.set_yticklabels([1, 1.2, 1.4], fontsize = 12)\n",
    "\n",
    "    \n",
    "    \n",
    "sns_plot.legend(frameon = False, fontsize = 16, loc = (0.0, 0.1))\n",
    "\n",
    "sns.despine()\n",
    "plt.savefig(paths.plot_save_path +'hidden_states/' + 'Cross_entropy_Markov_CT_Gen_probs_D1_D8.png', bbox_inches='tight');"
   ]
  },
  {
   "cell_type": "code",
   "execution_count": 27,
   "id": "0fb4a28a",
   "metadata": {},
   "outputs": [],
   "source": [
    "def get_x_jitter(df, columns, jitter = 0.05):\n",
    "    \n",
    "    '''\n",
    "    Columns expected to be a list. \n",
    "    \n",
    "    '''\n",
    "    jitter = jitter\n",
    "    x_jitter = pd.DataFrame(np.random.normal(loc=0,\n",
    "                                             scale=jitter, \n",
    "                                             size=df.values.shape),\n",
    "                                             columns=df.columns)\n",
    "    # ennek a sornak az a lényege, hogy növekvő értékűvé tegye a random noise data-t. \n",
    "    # Tehát az első oszlophoz 0-t, a másidikhoz 1-et adok hozzá hozzá. \n",
    "\n",
    "    x_jitter[columns] += np.arange(len(columns))\n",
    "    return (x_jitter[columns])"
   ]
  },
  {
   "cell_type": "code",
   "execution_count": 28,
   "id": "673ff900",
   "metadata": {},
   "outputs": [],
   "source": [
    "cross_entropy_d1_d8 = copy.deepcopy(CE_Markov_CT_d1_d8) ## this is not the most elegant way to recreate this \n",
    "## df, but for now it will suffice. \n",
    "cross_entropy_d1_d8.columns = [item[1] for item in cross_entropy_d1_d8.columns]\n",
    "\n",
    "cross_entropy_d1_d8.reset_index(inplace = True)\n",
    "x_jitter = get_x_jitter(cross_entropy_d1_d8, cross_entropy_d1_d8.columns[1:])"
   ]
  },
  {
   "cell_type": "code",
   "execution_count": 29,
   "id": "00a1d3a3",
   "metadata": {
    "scrolled": true
   },
   "outputs": [
    {
     "data": {
      "image/png": "[encoded data removed]",
      "text/plain": [
       "<Figure size 432x288 with 1 Axes>"
      ]
     },
     "metadata": {},
     "output_type": "display_data"
    }
   ],
   "source": [
    "fig, ax = plt.subplots(1, 1, facecolor = 'white')\n",
    "\n",
    "\n",
    "for col in cross_entropy_d1_d8.columns[1:]:\n",
    "\n",
    "        \n",
    "        ax.plot(x_jitter.loc[:, col], cross_entropy_d1_d8.loc[:, col], 'o', zorder=1, ms=pp.markersize_matplotlib, color = pp.basic_color, alpha = 0.8)\n",
    "        ax.set_xticks([0, 1])\n",
    "        ax.set_xticklabels(['D1', 'D8'], fontsize = 18)\n",
    "#         ax.set_xlim(-0.5,1.5)\n",
    "#         ax.set_ylim(-.15,.35)\n",
    "#         ax.set_yticks([0, 0.2])\n",
    "#         ax.set_yticklabels([0, 0.2], fontsize = pp.ticklabsize)\n",
    "\n",
    "\n",
    "for idx in cross_entropy_d1_d8.index:\n",
    "    ax.plot(x_jitter.loc[idx, cross_entropy_d1_d8.columns[1:]],\n",
    "            cross_entropy_d1_d8.loc[idx, cross_entropy_d1_d8.columns[1:]],\n",
    "            color = 'grey', \n",
    "            linewidth = 0.3, linestyle = '--', zorder=-1)\n",
    "    \n",
    "    \n",
    "## Plot the highlighted participants: 119, 110, 102\n",
    "highlighted = cross_entropy_d1_d8.loc[cross_entropy_d1_d8['participant_test'].isin([119, 110, 102])].index\n",
    "\n",
    "for col in cross_entropy_d1_d8.columns[1:]:\n",
    "        ax.plot(x_jitter.loc[highlighted, col], cross_entropy_d1_d8.loc[highlighted, col], 'o', zorder=1, ms=pp.markersize_matplotlib, color = 'orange', alpha = 1)\n",
    "\n",
    "        \n",
    "for idx in highlighted:\n",
    "    ax.plot(x_jitter.loc[idx, cross_entropy_d1_d8.columns[1:]],\n",
    "            cross_entropy_d1_d8.loc[idx, cross_entropy_d1_d8.columns[1:]],\n",
    "            color = 'orange', \n",
    "            linewidth = 1, linestyle = '--', zorder=-1)\n",
    "    \n",
    "    \n",
    "for i in highlighted:\n",
    "    plt.annotate(cross_entropy_d1_d8.loc[i,'participant_test'], (1.1, cross_entropy_d1_d8.loc[i, 8]), fontsize = 14)\n",
    "\n",
    "\n",
    "plt.axhline(y = 1.2, color = 'brown', lw = 0.8)\n",
    "plt.ylabel('Cross Entropy', fontsize = 18)\n",
    "\n",
    "\n",
    "    \n",
    "# plt.annotate(cross_entropy_d1_d8.loc[highlighted, :]['participant_test'], \n",
    "#              (cross_entropy_d1_d8.loc[highlighted, :][1], cross_entropy_d1_d8.loc[highlighted, :][8]))\n",
    "sns.despine()\n",
    "plt.savefig(paths.plot_save_path +'hidden_states/' + 'CE(Markov||CT)_D1_D8.png', bbox_inches='tight');"
   ]
  },
  {
   "cell_type": "markdown",
   "id": "3a17c46e",
   "metadata": {},
   "source": [
    "## Paired t-test"
   ]
  },
  {
   "cell_type": "code",
   "execution_count": 30,
   "id": "a4ddd0e9",
   "metadata": {},
   "outputs": [
    {
     "name": "stdout",
     "output_type": "stream",
     "text": [
      "t-value: -5.743 p-value: 0.0 df: 24\n"
     ]
    }
   ],
   "source": [
    "results = stats.ttest_rel(cross_entropy_d1_d8[1], cross_entropy_d1_d8[8])\n",
    "print('t-value:', np.round(results.statistic, decimals = 3),\n",
    "      'p-value:', np.round(results.pvalue, decimals = 3),\n",
    "      'df:', results.df)"
   ]
  },
  {
   "cell_type": "markdown",
   "id": "a3ad1cbf",
   "metadata": {},
   "source": [
    "## Cross entropy scatter D1 vs D8 "
   ]
  },
  {
   "cell_type": "code",
   "execution_count": 31,
   "id": "5fce8d37",
   "metadata": {
    "scrolled": true
   },
   "outputs": [
    {
     "data": {
      "text/plain": [
       "<matplotlib.image.AxesImage at 0x7fdc534b62b0>"
      ]
     },
     "execution_count": 31,
     "metadata": {},
     "output_type": "execute_result"
    },
    {
     "data": {
      "image/png": "[encoded data removed]",
      "text/plain": [
       "<Figure size 432x288 with 1 Axes>"
      ]
     },
     "metadata": {
      "needs_background": "light"
     },
     "output_type": "display_data"
    }
   ],
   "source": [
    "distplot = image.imread(paths.plot_save_path +'hidden_states/' + 'CE_distplot.png')\n",
    "plt.imshow(distplot)"
   ]
  },
  {
   "cell_type": "code",
   "execution_count": 32,
   "id": "f3ab0e46",
   "metadata": {},
   "outputs": [
    {
     "data": {
      "image/png": "[encoded data removed]",
      "text/plain": [
       "<Figure size 460.8x345.6 with 1 Axes>"
      ]
     },
     "metadata": {},
     "output_type": "display_data"
    }
   ],
   "source": [
    "fig, ax = plt.subplots(1, 1, figsize = pp.figsize, facecolor = 'white')\n",
    "\n",
    "sns_plot = sns.scatterplot(data = cross_entropy_d1_d8, x = 1, y = 8,\n",
    "                           s = pp.markersize_seaborn, color = pp.basic_color)\n",
    "\n",
    "\n",
    "sns_plot.set_xlabel('CE(Markov, CT) on D1', fontsize = pp.legendfontsize)\n",
    "sns_plot.set_ylabel('CE(Markov, CT) on D8', fontsize = pp.legendfontsize)\n",
    "sns_plot.set_xlim(0.7, 2)\n",
    "sns_plot.set_ylim(0.7, 2)\n",
    "\n",
    "\n",
    "ticks = np.arange(0.8, 2, 0.4)\n",
    "labels = np.round(np.arange(0.8, 2, 0.4), decimals = 1)\n",
    "\n",
    "\n",
    "sns_plot.set_xticks(ticks)\n",
    "sns_plot.set_xticklabels(labels, fontsize = pp.ticklabsize)\n",
    "\n",
    "sns_plot.set_yticks(ticks)\n",
    "sns_plot.set_yticklabels(labels, fontsize = pp.ticklabsize)\n",
    "\n",
    "sns.despine()\n",
    "\n",
    "\n",
    "####################################\n",
    "### Plot diagonal lines \n",
    "plt.plot([0, 1.7], [0, 1.7], lw = 0.5, color = 'black')\n",
    "plt.plot([2.1, 0.7], [0.7, 2.1], lw = 0.5, color = 'black')\n",
    "\n",
    "\n",
    "####################################\n",
    "## Place the distplot as an image to the plot \n",
    "####################################\n",
    "\n",
    "ax = plt.gca()\n",
    "img=image.imread(paths.plot_save_path +'hidden_states/' + 'CE_distplot.png')\n",
    "imgplot = ax.imshow(img, interpolation=None)\n",
    "right, up = [1640, 8055]\n",
    "transform = mpl.transforms.Affine2D().translate(right*(-1), up*(-1)).scale(0.05, 0.05).rotate_deg(135)\n",
    "imgplot.set_transform(transform)\n",
    "\n",
    "\n",
    "## here saving these is not the best way. THe distribution will be shown with ugly resolution because I cannot \n",
    "## manage the imported JPG's resolution. \n",
    "\n",
    "plt.savefig(paths.plot_save_path +'hidden_states/' + 'CE(Markov||CT)_D1_vs_D8_scatter_plus_dist.png', bbox_inches='tight')\n",
    "plt.savefig(paths.plot_save_path +'hidden_states/' + 'CE(Markov||CT)_D1_vs_D8_scatter_plus_dist.pdf', bbox_inches='tight')"
   ]
  },
  {
   "cell_type": "markdown",
   "id": "53b6bfe3",
   "metadata": {},
   "source": [
    "## Points' distance from the diagonal"
   ]
  },
  {
   "cell_type": "markdown",
   "id": "c4aafb30",
   "metadata": {},
   "source": [
    "https://bobbyhadz.com/blog/numpy-calculate-distance-between-point-and-line"
   ]
  },
  {
   "cell_type": "code",
   "execution_count": 33,
   "id": "66bde8dc",
   "metadata": {
    "scrolled": true
   },
   "outputs": [
    {
     "data": {
      "text/html": [
       "<div>\n",
       "<style scoped>\n",
       "    .dataframe tbody tr th:only-of-type {\n",
       "        vertical-align: middle;\n",
       "    }\n",
       "\n",
       "    .dataframe tbody tr th {\n",
       "        vertical-align: top;\n",
       "    }\n",
       "\n",
       "    .dataframe thead th {\n",
       "        text-align: right;\n",
       "    }\n",
       "</style>\n",
       "<table border=\"1\" class=\"dataframe\">\n",
       "  <thead>\n",
       "    <tr style=\"text-align: right;\">\n",
       "      <th></th>\n",
       "      <th>participant_test</th>\n",
       "      <th>1.0</th>\n",
       "      <th>8.0</th>\n",
       "    </tr>\n",
       "  </thead>\n",
       "  <tbody>\n",
       "    <tr>\n",
       "      <th>0</th>\n",
       "      <td>101</td>\n",
       "      <td>1.059844</td>\n",
       "      <td>1.060899</td>\n",
       "    </tr>\n",
       "    <tr>\n",
       "      <th>1</th>\n",
       "      <td>102</td>\n",
       "      <td>1.108223</td>\n",
       "      <td>1.225916</td>\n",
       "    </tr>\n",
       "  </tbody>\n",
       "</table>\n",
       "</div>"
      ],
      "text/plain": [
       "   participant_test       1.0       8.0\n",
       "0               101  1.059844  1.060899\n",
       "1               102  1.108223  1.225916"
      ]
     },
     "execution_count": 33,
     "metadata": {},
     "output_type": "execute_result"
    }
   ],
   "source": [
    "cross_entropy_d1_d8.head(2)"
   ]
  },
  {
   "cell_type": "code",
   "execution_count": 34,
   "id": "e01ad5e9",
   "metadata": {},
   "outputs": [],
   "source": [
    "p1 = np.array([0, 0])\n",
    "p2 = np.array([5, 5])\n",
    "\n",
    "for i in cross_entropy_d1_d8.index:\n",
    "    x, y= cross_entropy_d1_d8.loc[i,[1, 8]] ## taking the x and y coords from the dataframe (x - d1, y - d8)\n",
    "    xy_cords = np.array([x, y])\n",
    "    distance = np.cross(p2 - p1, xy_cords - p1) / np.linalg.norm(p2 - p1)\n",
    "    cross_entropy_d1_d8.loc[i, 'distance'] = distance \n",
    "#    cross_entropy_d1_d8['distance_neg'] =  cross_entropy_d1_d8['distance']*-1"
   ]
  },
  {
   "cell_type": "code",
   "execution_count": 36,
   "id": "7d309b70",
   "metadata": {
    "scrolled": true
   },
   "outputs": [
    {
     "data": {
      "image/png": "[encoded data removed]",
      "text/plain": [
       "<Figure size 432x288 with 1 Axes>"
      ]
     },
     "metadata": {},
     "output_type": "display_data"
    }
   ],
   "source": [
    "sns_plot = sns.kdeplot(data=cross_entropy_d1_d8, x='distance', lw = 3, color = pp.basic_color)\n",
    "sns.despine(left = True, bottom = True)\n",
    "\n",
    "\n",
    "sns_plot.set_xlim(-0.3, .5)\n",
    "sns_plot.set_ylim(-0.5, 6)\n",
    "sns_plot.set_xlabel(None)\n",
    "sns_plot.set_ylabel(None);\n",
    "sns_plot.set_xticks([])\n",
    "sns_plot.set_yticks([]);\n",
    "sns_plot.axvline(x = 0, ymin = -0.2, ymax= 0.2, color = 'black', lw = 0.1);\n",
    "sns_plot.axhline(y = 0, color = 'black', lw = 0.1);\n",
    "\n",
    "plt.savefig(paths.plot_save_path +'hidden_states/'  + 'CE_distplot.png', bbox_inches='tight', dpi = 800)\n",
    "plt.savefig(paths.plot_save_path +'hidden_states/'  + 'CE_distplot.svg', bbox_inches='tight')"
   ]
  }
 ],
 "metadata": {
  "kernelspec": {
   "display_name": "Python 3 (ipykernel)",
   "language": "python",
   "name": "python3"
  },
  "language_info": {
   "codemirror_mode": {
    "name": "ipython",
    "version": 3
   },
   "file_extension": ".py",
   "mimetype": "text/x-python",
   "name": "python",
   "nbconvert_exporter": "python",
   "pygments_lexer": "ipython3",
   "version": "3.9.7"
  }
 },
 "nbformat": 4,
 "nbformat_minor": 5
}
