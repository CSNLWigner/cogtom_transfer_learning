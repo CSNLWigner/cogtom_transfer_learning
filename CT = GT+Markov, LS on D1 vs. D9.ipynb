{
 "cells": [
  {
   "cell_type": "markdown",
   "metadata": {},
   "source": [
    "# CT = GT+Markov, LS on D1 vs. D9"
   ]
  },
  {
   "cell_type": "code",
   "execution_count": 32,
   "metadata": {
    "scrolled": true
   },
   "outputs": [],
   "source": [
    "import pandas as pd\n",
    "import numpy as np\n",
    "import time \n",
    "import matplotlib.pyplot as plt\n",
    "import matplotlib.pyplot as plt\n",
    "import seaborn as sns\n",
    "import scipy as sp\n",
    "import matplotlib.patches as mpatches\n",
    "import sys\n",
    "sys.path.append('../..')\n",
    "from data_import import*\n",
    "from helper import*\n",
    "from plot_params import*\n",
    "pp = PlotParams()\n",
    "from paths import*"
   ]
  },
  {
   "cell_type": "code",
   "execution_count": 33,
   "metadata": {},
   "outputs": [],
   "source": [
    "paths = paths()\n",
    "f4_path = paths.f4_path + '/4e9c1cf/'"
   ]
  },
  {
   "cell_type": "code",
   "execution_count": 34,
   "metadata": {
    "scrolled": true
   },
   "outputs": [],
   "source": [
    "data_raw = import_and_transform_data(f4_path, 'NOGTHSH_LEARNING_CURVES_4e9c1cf_9A_23_09_05.csv')\n",
    "data_tag, data_raw = data_raw"
   ]
  },
  {
   "cell_type": "code",
   "execution_count": 92,
   "metadata": {},
   "outputs": [],
   "source": [
    "####################\n",
    "#### Filter the data\n",
    "data = drop_RTs_above_3std_below_180(data_raw)"
   ]
  },
  {
   "cell_type": "code",
   "execution_count": 93,
   "metadata": {
    "scrolled": true
   },
   "outputs": [],
   "source": [
    "corr_matrix = (data\n",
    "                   .groupby(['model', 'participant', 'e_train', 'e_test', 'day'])\n",
    "                   [['rt','rt_predicted']]\n",
    "                   .corr())\n",
    "corr_matrix.reset_index(inplace = True)\n",
    "corr_matrix.drop(['level_5', 'rt'], axis = 1, inplace = True)\n",
    "matrix = corr_matrix.loc[corr_matrix['rt_predicted'] !=1]\n",
    "matrix['r_sqr'] = matrix.rt_predicted**2\n",
    "matrix.drop('rt_predicted', axis = 1, inplace = True)\n",
    "matrix;"
   ]
  },
  {
   "cell_type": "code",
   "execution_count": 94,
   "metadata": {
    "scrolled": true
   },
   "outputs": [],
   "source": [
    "data_ct_m =  matrix.pivot(index = ['participant', 'day'], columns = 'model', values = 'r_sqr')\n",
    "data_ct_m['m_ct_diff'] = data_ct_m['iHMM'] - data_ct_m['Markov'] "
   ]
  },
  {
   "cell_type": "markdown",
   "metadata": {},
   "source": [
    "## CT vs. Markov + GT"
   ]
  },
  {
   "cell_type": "code",
   "execution_count": 95,
   "metadata": {},
   "outputs": [],
   "source": [
    "data_ct_m2 = data_ct_m\n",
    "data_ct_m2.reset_index(inplace = True)\n",
    "data_ct_m2 = data_ct_m2.loc[data_ct_m2['day'].isin([1, 8, 9])]\n",
    "data_ct_m2 = data_ct_m2.groupby(['day', 'participant']).sum()\n",
    "data_ct_m2['GT_Markov'] = data_ct_m2['GroundTruth'] + data_ct_m2['Markov']\n",
    "data_ct_m2.reset_index(inplace=True)"
   ]
  },
  {
   "cell_type": "code",
   "execution_count": 96,
   "metadata": {
    "scrolled": false
   },
   "outputs": [
    {
     "data": {
      "image/png": "[encoded data removed]",
      "text/plain": [
       "<Figure size 460.8x345.6 with 1 Axes>"
      ]
     },
     "metadata": {},
     "output_type": "display_data"
    }
   ],
   "source": [
    "fig, axs = plt.subplots(figsize = pp.figsize, facecolor = 'white')\n",
    "\n",
    "\n",
    "sns_plot = sns.scatterplot(data = data_ct_m2.loc[data_ct_m2['day'] == 1], \n",
    "                           x = 'GT_Markov',\n",
    "                           y = 'iHMM',\n",
    "                           marker = '+',\n",
    "                           s = 400,\n",
    "                           color = pp.basic_color,\n",
    "                           label = 'D1'\n",
    "                          )\n",
    "\n",
    "\n",
    "sns_plot = sns.scatterplot(data = data_ct_m2.loc[data_ct_m2['day'] == 8], \n",
    "                           x = 'GT_Markov',\n",
    "                           y = 'iHMM',\n",
    "                           marker = 'o',\n",
    "                           s = pp.markersize_seaborn,\n",
    "                           alpha = 1,\n",
    "                           color = '#0653C7',\n",
    "                           label = 'D8'\n",
    "                          )\n",
    "\n",
    "\n",
    "\n",
    "sns_plot = sns.lineplot(x = [0,0.4], y = [0, 0.4], color = 'black', linewidth = 0.5)\n",
    "\n",
    "sns_plot.set_yticks([0., 0.2, 0.4])\n",
    "sns_plot.set_xticks([0., 0.2, 0.4])\n",
    "\n",
    "sns_plot.set_xticklabels([0., 0.2, 0.4], fontsize = pp.ticklabsize)\n",
    "sns_plot.set_yticklabels([0., 0.2, 0.4], fontsize = pp.ticklabsize)\n",
    "\n",
    "sns_plot.set_xlabel('GT+Markov', fontsize = pp.axlabsize )\n",
    "sns_plot.set_ylabel('Cognitive\\nTomography', fontsize = pp.axlabsize)\n",
    "\n",
    "sns_plot.legend(frameon = False, fontsize = pp.legendfontsize)\n",
    "sns.despine()"
   ]
  },
  {
   "cell_type": "code",
   "execution_count": 97,
   "metadata": {},
   "outputs": [],
   "source": [
    "fig.savefig(paths.plot_save_path +'/manuscript_plots_standard/' +'CT_GTMarkov.pdf', bbox_inches='tight')\n",
    "fig.savefig(paths.plot_save_path +'/manuscript_plots_standard/' +'CT_GTMarkov.png', bbox_inches='tight')"
   ]
  },
  {
   "cell_type": "code",
   "execution_count": 98,
   "metadata": {},
   "outputs": [],
   "source": [
    "data_ct_m2.dropna(inplace=True)\n",
    "r, p = sp.stats.pearsonr(x=data_ct_m2.GT_Markov, y=data_ct_m2.iHMM)"
   ]
  },
  {
   "cell_type": "code",
   "execution_count": 99,
   "metadata": {
    "scrolled": false
   },
   "outputs": [
    {
     "name": "stdout",
     "output_type": "stream",
     "text": [
      "r=0.953, p=0.000***\n"
     ]
    }
   ],
   "source": [
    "print ('r={:.3f}, p={:.3f}{}'.format(r, p, get_stars(p)))"
   ]
  },
  {
   "cell_type": "code",
   "execution_count": 100,
   "metadata": {},
   "outputs": [],
   "source": [
    "D1_means = pd.DataFrame(data_ct_m2.loc[data_ct_m2['day'] == 1][['GT_Markov', 'iHMM']].mean(axis = 0)).transpose()\n",
    "D8_means = pd.DataFrame(data_ct_m2.loc[data_ct_m2['day'] == 8][['GT_Markov', 'iHMM']].mean(axis = 0)).transpose()\n",
    "D9_means = pd.DataFrame(data_ct_m2.loc[data_ct_m2['day'] == 9][['GT_Markov', 'iHMM']].mean(axis = 0)).transpose()"
   ]
  },
  {
   "cell_type": "code",
   "execution_count": 102,
   "metadata": {
    "scrolled": true
   },
   "outputs": [
    {
     "data": {
      "image/png": "[encoded data removed]",
      "text/plain": [
       "<Figure size 460.8x345.6 with 1 Axes>"
      ]
     },
     "metadata": {},
     "output_type": "display_data"
    }
   ],
   "source": [
    "fig, axs = plt.subplots(figsize = pp.figsize, facecolor = 'white')\n",
    "\n",
    "\n",
    "sns_plot = sns.scatterplot(data = data_ct_m2.loc[data_ct_m2['day'] == 1], \n",
    "                           x = 'GT_Markov',\n",
    "                           y = 'iHMM',\n",
    "                           marker = '+',\n",
    "                           s = 400,\n",
    "                           alpha = 0.7,\n",
    "                           color = pp.basic_color,\n",
    "                           label = 'D1'\n",
    "                          )\n",
    "\n",
    "\n",
    "sns_plot = sns.scatterplot(data = data_ct_m2.loc[data_ct_m2['day'] == 8], \n",
    "                           x = 'GT_Markov',\n",
    "                           y = 'iHMM',\n",
    "                           marker = 'o',\n",
    "                           s = pp.markersize_seaborn,\n",
    "                           alpha = 0.7,\n",
    "                           color = '#0653C7',\n",
    "                           label = 'D8'\n",
    "                          )\n",
    "\n",
    "\n",
    "\n",
    "sns_plot = sns.scatterplot(data = data_ct_m2.loc[data_ct_m2['day'] == 9], \n",
    "                           x = 'GT_Markov',\n",
    "                           y = 'iHMM',\n",
    "                           marker = 'X',\n",
    "                           s = 150,\n",
    "                           alpha = 1,\n",
    "                           color = 'orange',\n",
    "                           label = 'D9'\n",
    "                          )\n",
    "\n",
    "\n",
    "sns.scatterplot(data = D1_means, x = 'GT_Markov', y = 'iHMM', color = pp.basic_color,\n",
    "               marker = '+',\n",
    "               s = 1000, \n",
    "               linewidth = 8)\n",
    "\n",
    "sns.scatterplot(data = D8_means, x = 'GT_Markov', y = 'iHMM', color = pp.basic_color,\n",
    "               marker = 'o',\n",
    "               s = 600,\n",
    "               linewidth = 0)\n",
    "\n",
    "sns.scatterplot(data = D9_means, x = 'GT_Markov', y = 'iHMM', color = 'orange',\n",
    "               marker = 'X',\n",
    "               s = 600,\n",
    "               linewidth = 0)\n",
    "\n",
    "\n",
    "\n",
    "\n",
    "sns_plot = sns.lineplot(x = [0,0.4],y= [0, 0.4], color = 'black', linewidth = 0.5)\n",
    "\n",
    "sns_plot.set_yticks([0., 0.2, 0.4])\n",
    "sns_plot.set_xticks([0., 0.2, 0.4])\n",
    "\n",
    "sns_plot.set_xticklabels([0., 0.2, 0.4], fontsize = pp.ticklabsize)\n",
    "sns_plot.set_yticklabels([0., 0.2, 0.4], fontsize = pp.ticklabsize)\n",
    "\n",
    "sns_plot.set_xlabel('GT+Markov', fontsize = pp.axlabsize )\n",
    "sns_plot.set_ylabel('Cognitive\\nTomography', fontsize = pp.axlabsize)\n",
    "\n",
    "sns_plot.legend(frameon = False, fontsize = pp.legendfontsize)\n",
    "sns.despine()"
   ]
  },
  {
   "cell_type": "code",
   "execution_count": 103,
   "metadata": {},
   "outputs": [],
   "source": [
    "fig.savefig(paths.plot_save_path + '/manuscript_plots_standard/' +'CT_GTMarkov_D189.pdf', bbox_inches='tight')\n",
    "fig.savefig(paths.plot_save_path + '/manuscript_plots_standard/' +'CT_GTMarkov_D189.png', bbox_inches='tight')"
   ]
  },
  {
   "cell_type": "markdown",
   "metadata": {},
   "source": [
    "# Calculate learning strength"
   ]
  },
  {
   "cell_type": "code",
   "execution_count": 104,
   "metadata": {},
   "outputs": [],
   "source": [
    "data_diff = data_ct_m.reset_index()\n",
    "data_diff.drop('index', axis = 1, inplace = True)\n",
    "data_diff = pd.DataFrame(data_diff)\n",
    "data_diff = (data_diff\n",
    "                    .groupby(['participant', 'day'])\n",
    "                    .mean()        \n",
    "            )\n",
    "data_diff = (data_diff\n",
    "     .stack()\n",
    "     .reset_index()\n",
    "      .pivot_table(index = 'participant', columns = ['day', 'model'])\n",
    " \n",
    ")\n",
    "data_diff.columns = data_diff.columns.droplevel(0)\n",
    "data_diff;"
   ]
  },
  {
   "cell_type": "code",
   "execution_count": 105,
   "metadata": {},
   "outputs": [],
   "source": [
    "header1 = ['day_'+ str(int(item[0]))for item in data_diff.columns]\n",
    "header2 = [item[1] for item in data_diff.columns]\n",
    "multiindex = pd.MultiIndex.from_arrays([header1, header2], names=[\"day\", \"model\"])\n",
    "len(multiindex)\n",
    "data_diff.columns = multiindex"
   ]
  },
  {
   "cell_type": "code",
   "execution_count": 106,
   "metadata": {},
   "outputs": [],
   "source": [
    "data_diff['avg_diff_d5_8'] = (data_diff\n",
    "                                  [[('day_5', 'm_ct_diff'), \n",
    "                                    ('day_6', 'm_ct_diff'), \n",
    "                                    ('day_7', 'm_ct_diff'), \n",
    "                                    ('day_8', 'm_ct_diff')]]\n",
    "                                    .mean(axis = 1))"
   ]
  },
  {
   "cell_type": "markdown",
   "metadata": {},
   "source": [
    "# T-tests to evaluate LS on D1 and D9"
   ]
  },
  {
   "cell_type": "markdown",
   "metadata": {},
   "source": [
    "### T-test: H1: D1 LS is different from D9 LS (repeated measures)"
   ]
  },
  {
   "cell_type": "code",
   "execution_count": 107,
   "metadata": {
    "scrolled": true
   },
   "outputs": [
    {
     "name": "stdout",
     "output_type": "stream",
     "text": [
      "Dependent t-test p-value: 0.000, t-value: -6.686, df: 24.\n"
     ]
    },
    {
     "data": {
      "text/plain": [
       "24"
      ]
     },
     "execution_count": 107,
     "metadata": {},
     "output_type": "execute_result"
    }
   ],
   "source": [
    "t_test = sp.stats.ttest_rel(data_diff.day_1.m_ct_diff, data_diff.day_9.m_ct_diff, alternative='less')\n",
    "t_value, p_value = t_test\n",
    "print(f'Dependent t-test p-value: {p_value:.3f}, t-value: {t_value:.3f}, df: {t_test.df }.')\n",
    "t_test.df"
   ]
  },
  {
   "cell_type": "markdown",
   "metadata": {},
   "source": [
    "### T-test: H1: D1 LS and D9 LS differs from zero"
   ]
  },
  {
   "cell_type": "code",
   "execution_count": 108,
   "metadata": {
    "scrolled": true
   },
   "outputs": [
    {
     "name": "stdout",
     "output_type": "stream",
     "text": [
      "Independent t-test p-value: 0.181, t-value: 0.930.\n",
      "DF =  24\n"
     ]
    }
   ],
   "source": [
    "freedom = data_diff.day_1.m_ct_diff.shape[0]-1\n",
    "t_val, p_val = sp.stats.ttest_1samp(data_diff.day_1.m_ct_diff, popmean = 0, alternative = 'greater')\n",
    "print(f'Independent t-test p-value: {p_val:.3f}{get_stars(p_val)}, t-value: {t_val:.3f}.')\n",
    "print ('DF = ', freedom)"
   ]
  },
  {
   "cell_type": "code",
   "execution_count": 109,
   "metadata": {},
   "outputs": [
    {
     "name": "stdout",
     "output_type": "stream",
     "text": [
      "Independent t-test p-value: 0.000***, t-value: 7.175.\n",
      "DF =  24\n"
     ]
    }
   ],
   "source": [
    "freedom = data_diff.day_9.m_ct_diff.shape[0]\n",
    "t_val, p_val = sp.stats.ttest_1samp(data_diff.day_9.m_ct_diff, popmean = 0, alternative = 'greater')\n",
    "print(f'Independent t-test p-value: {p_val:.3f}{get_stars(p_val)}, t-value: {t_val:.3f}.')\n",
    "print ('DF = ', freedom-1)"
   ]
  },
  {
   "cell_type": "markdown",
   "metadata": {},
   "source": [
    "# Learning strength on day 8 vs. day 9"
   ]
  },
  {
   "cell_type": "code",
   "execution_count": 110,
   "metadata": {
    "scrolled": false
   },
   "outputs": [],
   "source": [
    "data_diff.reset_index(inplace=True)\n",
    "data_diff.set_index('participant', inplace = True)"
   ]
  },
  {
   "cell_type": "code",
   "execution_count": 111,
   "metadata": {
    "scrolled": true
   },
   "outputs": [],
   "source": [
    "violin_data = data_diff.loc[:, [('day_5', 'iHMM'), ('day_6', 'iHMM'), ('day_7', 'iHMM'), ('day_8', 'iHMM')]].reset_index()\n",
    "violin_data.columns = ['participant', 'D5', 'D6', 'D7', 'D8']\n",
    "violin_data2 = pd.DataFrame(violin_data.set_index('participant').unstack()).reset_index('participant')\n",
    "violin_data2.columns = ['participant', 'RT']\n",
    "vio = data_diff.loc[:,[('day_1', 'm_ct_diff'), ('day_9', 'm_ct_diff')]]#.reset_index()\n",
    "vio.columns = [ 'CT_advtg_d1', 'CT_advtg_d9']\n",
    "vio = pd.DataFrame(vio.transpose().stack())\n",
    "vio.reset_index(inplace=True)\n",
    "vio.columns = ['day', 'participant', 'r_sqr']"
   ]
  },
  {
   "cell_type": "markdown",
   "metadata": {},
   "source": [
    "## LS on D1 vs. LS on D8"
   ]
  },
  {
   "cell_type": "code",
   "execution_count": 112,
   "metadata": {
    "scrolled": true
   },
   "outputs": [
    {
     "data": {
      "image/png": "[encoded data removed]",
      "text/plain": [
       "<Figure size 460.8x345.6 with 1 Axes>"
      ]
     },
     "metadata": {},
     "output_type": "display_data"
    }
   ],
   "source": [
    "fig, axs = plt.subplots(figsize = pp.figsize, facecolor = 'white')\n",
    "## palette = {'CT_advtg_d1': \"lightsteelblue\", 'CT_advtg_d9': \"#ffe567\"}\n",
    "palette = {'CT_advtg_d1': '#4dc4ff', 'CT_advtg_d9': '#4dc4ff'}\n",
    "#palette = {'CT_advtg_d1': pp.basic_color, 'CT_advtg_d9': pp.basic_color}\n",
    "\n",
    "\n",
    "\n",
    "sns_plot = sns.boxplot(x=\"day\", y=\"r_sqr\", hue= 'day', data=vio, palette = palette, width = 0.6)\n",
    "sns_plot.set_xlabel(None)\n",
    "sns_plot.set_ylabel(\"Learning strength\", fontsize = pp.axlabsize)\n",
    "sns_plot.yaxis.set_label_coords(-0.15, 0.5)\n",
    "\n",
    "#axs.set_title(\"A: Updated inductive biases after learning\", x = 0.3, y = 1.1,  fontsize=18, pad=20)\n",
    "plt.legend([],[], frameon=False)\n",
    "\n",
    "\n",
    "\n",
    "#sns_plot.set_xlim(-1,2)\n",
    "sns_plot.set_ylim(-0.12, 0.22)\n",
    "\n",
    "############################################################\n",
    "######### Significance notation\n",
    "############################################################\n",
    "plt.axhline(y = .185, xmin = .25, xmax = 0.75, color = 'black', lw = 1.3)\n",
    "\n",
    "ymin, ymax = 0.85, 0.895\n",
    "plt.axvline(x = 0, ymin = ymin, ymax = ymax, color = 'black', lw = 1.3)\n",
    "plt.axvline(x = 1, ymin = ymin, ymax = ymax, color = 'black', lw = 1.3)\n",
    "plt.text(0.39,0.19,'***', size = pp.starsize)\n",
    "\n",
    "############################################################\n",
    "\n",
    "sns_plot.spines[\"top\"].set_visible(False)\n",
    "sns_plot.spines[\"right\"].set_visible(False)\n",
    "\n",
    "#sns_plot.set_xticks([-0.2, 1.2])\n",
    "plt.yticks([-0.1, 0, 0.1, 0.2], fontsize = pp.ticklabsize)\n",
    "sns_plot.set_xticks([0, 1])\n",
    "sns_plot.set_xticklabels(['D1', 'D9'], fontsize = pp.ticklabsize)\n",
    "plt.gcf().subplots_adjust(left=0.22);"
   ]
  },
  {
   "cell_type": "markdown",
   "metadata": {},
   "source": [
    "## Calculate means and stds"
   ]
  },
  {
   "cell_type": "code",
   "execution_count": 113,
   "metadata": {
    "scrolled": true
   },
   "outputs": [
    {
     "name": "stdout",
     "output_type": "stream",
     "text": [
      "D1 mean:, 0.003, std: 0.014\n",
      "D9 mean: 0.053, std: 0.037\n"
     ]
    }
   ],
   "source": [
    "mean = vio.loc[vio['day'] == 'CT_advtg_d1'].r_sqr.mean()\n",
    "std = vio.loc[vio['day'] == 'CT_advtg_d1'].r_sqr.std()\n",
    "print (f'D1 mean:, {mean:.3f}, std: {std:.3f}')\n",
    "\n",
    "mean = vio.loc[vio['day'] == 'CT_advtg_d9'].r_sqr.mean()\n",
    "std = vio.loc[vio['day'] == 'CT_advtg_d9'].r_sqr.std()\n",
    "print (f'D9 mean: {mean:.3f}, std: {std:.3f}')\n",
    "\n",
    "#print('previous means:\\nD1 mean:, 0.004, std: 0.010\\nD9 mean: 0.045, std: 0.042')"
   ]
  },
  {
   "cell_type": "code",
   "execution_count": 114,
   "metadata": {},
   "outputs": [],
   "source": [
    "fig.savefig(paths.plot_save_path + '/manuscript_plots_standard/' +'LS_D1_D9_blue.pdf', bbox_inches='tight')\n",
    "fig.savefig(paths.plot_save_path + '/manuscript_plots_standard/' +'LS_D1_D9_blue.png', bbox_inches='tight')"
   ]
  },
  {
   "cell_type": "markdown",
   "metadata": {},
   "source": [
    "# LS on D5-D8"
   ]
  },
  {
   "cell_type": "code",
   "execution_count": 115,
   "metadata": {
    "scrolled": true
   },
   "outputs": [],
   "source": [
    "LS_d5_d8 = data_diff[[('day_5', 'm_ct_diff'), ('day_6', 'm_ct_diff'), ('day_7', 'm_ct_diff'),( 'day_8', 'm_ct_diff')]]\n",
    "median_ls_sorted = LS_d5_d8.median(axis = 1).sort_values()\n",
    "mean_ls_d5_d8 = LS_d5_d8.median(axis = 1).sort_values()\n",
    "participants_ordered = mean_ls_d5_d8.index\n",
    "LS_d5_d8 = LS_d5_d8.stack(0)\n",
    "LS_d5_d8.reset_index(inplace=True)\n",
    "LS_d5_d8.columns.name = None"
   ]
  },
  {
   "cell_type": "code",
   "execution_count": 116,
   "metadata": {},
   "outputs": [],
   "source": [
    "################################################\n",
    "################################################\n",
    "def get_arrow(participant_num):\n",
    "    x_tail = participant_num\n",
    "    y_tail = -0.055\n",
    "    x_head = participant_num\n",
    "    y_head = 0.0\n",
    "    dx = x_head - x_tail\n",
    "    dy = y_head - y_tail\n",
    "    arrow = mpatches.FancyArrowPatch((x_tail, y_tail), (x_head, y_head),\n",
    "                                     mutation_scale=20, color = 'grey')\n",
    "    return (arrow)"
   ]
  },
  {
   "cell_type": "code",
   "execution_count": 117,
   "metadata": {
    "scrolled": true
   },
   "outputs": [
    {
     "data": {
      "text/plain": [
       "24"
      ]
     },
     "execution_count": 117,
     "metadata": {},
     "output_type": "execute_result"
    }
   ],
   "source": [
    "np.where(participants_ordered == 111)[0][0]"
   ]
  },
  {
   "cell_type": "code",
   "execution_count": 118,
   "metadata": {},
   "outputs": [
    {
     "data": {
      "image/png": "[encoded data removed]",
      "text/plain": [
       "<Figure size 460.8x345.6 with 1 Axes>"
      ]
     },
     "metadata": {},
     "output_type": "display_data"
    }
   ],
   "source": [
    "fig, axs = plt.subplots(figsize = pp.figsize, facecolor = 'white')\n",
    "\n",
    "\n",
    "#############################################\n",
    "### Boxplot for D5-D8 \n",
    "#############################################\n",
    "sns_plot = sns.boxplot(data = LS_d5_d8, \n",
    "                       x=\"participant\", y=\"m_ct_diff\", \n",
    "                       color = pp.basic_color,\n",
    "                       order=median_ls_sorted.index,\n",
    "                       width=0.7,\n",
    "                       boxprops=dict(alpha=.85))\n",
    "\n",
    "########################################\n",
    "## Labels, legends, title \n",
    "########################################\n",
    "\n",
    "sns_plot.set_ylabel(\"Learning strength\", fontsize = pp.axlabsize)\n",
    "sns_plot.set_xlabel('Participants', fontsize = pp.axlabsize)\n",
    "axs.xaxis.set_label_coords(0.5, -0.2)\n",
    "\n",
    "##########################################\n",
    "## Ticks, axes\n",
    "##########################################\n",
    "two_ticklab = [item if item in [119, 111] else '' for item in participants_ordered]\n",
    "sns_plot.set_xticks(np.arange(len(participants_ordered)))\n",
    "sns_plot.set_xticklabels(two_ticklab, rotation = 90, fontsize = 16)\n",
    "\n",
    "sns_plot.set_yticks([0, 0.1, 0.2])\n",
    "sns_plot.set_yticklabels([0, 0.1, 0.2], fontsize = pp.ticklabsize)\n",
    "\n",
    "sns_plot.spines[\"top\"].set_visible(False)\n",
    "sns_plot.spines[\"right\"].set_visible(False)\n",
    "\n",
    "plt.tight_layout()\n",
    "\n",
    "\n",
    "##########################################\n",
    "## Add arrows\n",
    "##########################################\n",
    "#participants_ordered = np.array(median_ls_sorted.index)\n",
    "idx_119 = np.where(participants_ordered == 119)[0][0]\n",
    "idx_111 = np.where(participants_ordered == 111)[0][0]\n",
    "\n",
    "sns_plot.add_patch(get_arrow(idx_119))\n",
    "sns_plot.add_patch(get_arrow(idx_111));\n"
   ]
  },
  {
   "cell_type": "code",
   "execution_count": 119,
   "metadata": {},
   "outputs": [],
   "source": [
    "fig.savefig(paths.plot_save_path +'/manuscript_plots_standard/' +'LS_D5-D8.pdf')\n",
    "fig.savefig(paths.plot_save_path + '/manuscript_plots_standard/' +'LS_D5-D8.png')"
   ]
  },
  {
   "cell_type": "markdown",
   "metadata": {},
   "source": [
    "## Saving the learning strength "
   ]
  },
  {
   "cell_type": "code",
   "execution_count": 166,
   "metadata": {},
   "outputs": [],
   "source": [
    "#LS_d5_d8 = pd.DataFrame(mean_ls_d5_d8, columns = ['LS_mean_d5_d8'])\n",
    "#LS_d5_d8.to_csv(paths.local_data + '/LS_mean_D5_D8_recalc.csv')"
   ]
  }
 ],
 "metadata": {
  "kernelspec": {
   "display_name": "Python 3 (ipykernel)",
   "language": "python",
   "name": "python3"
  },
  "language_info": {
   "codemirror_mode": {
    "name": "ipython",
    "version": 3
   },
   "file_extension": ".py",
   "mimetype": "text/x-python",
   "name": "python",
   "nbconvert_exporter": "python",
   "pygments_lexer": "ipython3",
   "version": "3.9.7"
  }
 },
 "nbformat": 4,
 "nbformat_minor": 4
}
