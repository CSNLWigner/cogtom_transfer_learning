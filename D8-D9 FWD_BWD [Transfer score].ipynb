{
 "cells": [
  {
   "cell_type": "markdown",
   "id": "07ce727d",
   "metadata": {},
   "source": [
    "# D8-D9 FWD_BWD [Transfer score]\n",
    "\n",
    "CT MODEL PERFORMANCE ON DAY 8 AND DAY 9"
   ]
  },
  {
   "cell_type": "code",
   "execution_count": 1,
   "id": "39fa1b8a",
   "metadata": {},
   "outputs": [],
   "source": [
    "import pandas as pd\n",
    "import matplotlib.pyplot as plt\n",
    "import sys\n",
    "sys.path.append('../..')\n",
    "from data_import import*\n",
    "from helper import*\n",
    "from plot_params import*\n",
    "import seaborn as sns\n",
    "import scipy.stats\n",
    "pp = PlotParams()\n",
    "import scipy as sp"
   ]
  },
  {
   "cell_type": "markdown",
   "id": "173963de",
   "metadata": {},
   "source": [
    "## Import the predicted RT datafiles"
   ]
  },
  {
   "cell_type": "code",
   "execution_count": 5,
   "id": "659e1295",
   "metadata": {
    "scrolled": false
   },
   "outputs": [
    {
     "name": "stdout",
     "output_type": "stream",
     "text": [
      "Nr of datapoints: 329,446 \n",
      "chains:['saw' 'camino' 'scissors' 'silkroad'] \n",
      "train:['186_195' '216_225'], test:['176_185' '201_214'] \n",
      "data used: NOGTHSH_ACROSS_SESSIONS_d8_d9_across_session_NOG_d9_216_225_23_09_11.csv\n"
     ]
    }
   ],
   "source": [
    "f4_path = '/Users/szekelyanna/f4/cogtom/cogtom_code_bt/Python/Output/NOGTHSH/'\n",
    "fig_save_path = '/Users/szekelyanna/Dropbox/CSNL/cognitive_tomography/analysis_2022/plots/across_sessions_d8_d9/'\n",
    "file = 'NOGTHSH_ACROSS_SESSIONS_d8_d9_across_session_NOG_d9_216_225_23_09_11.csv'\n",
    "data_tag, data = import_and_transform_data(f4_path, file)\n",
    "print(data_tag)"
   ]
  },
  {
   "cell_type": "code",
   "execution_count": 6,
   "id": "c6ac0fb9",
   "metadata": {
    "scrolled": true
   },
   "outputs": [
    {
     "name": "stdout",
     "output_type": "stream",
     "text": [
      "Nr of datapoints: 278,152 \n",
      "chains:['saw' 'scissors' 'camino' 'silkroad'] \n",
      "train:['161_170' '186_195'], test:['151_160' '176_185'] \n",
      "data used: NOGTHSH_ACROSS_SESSIONS_d7_d8_across_session_NOG_23_09_05.csv\n"
     ]
    }
   ],
   "source": [
    "file = 'NOGTHSH_ACROSS_SESSIONS_d7_d8_across_session_NOG_23_09_05.csv'\n",
    "data_d7_d8 = import_and_transform_data(f4_path, file)\n",
    "data_d7_d8_tag, data_d7_d8_raw = data_d7_d8\n",
    "print(data_d7_d8_tag)"
   ]
  },
  {
   "cell_type": "markdown",
   "id": "a802da8f",
   "metadata": {},
   "source": [
    "## Functions for data transformations"
   ]
  },
  {
   "cell_type": "code",
   "execution_count": 7,
   "id": "e02a87b0",
   "metadata": {},
   "outputs": [],
   "source": [
    "def drop_RTs_above_3std(data):\n",
    "    rt_means = dict(data.groupby('participant')['rt'].mean())\n",
    "    participants = rt_means.keys()\n",
    "    rt_means = np.array(data.groupby('participant')['rt'].mean())\n",
    "    rt_std = np.array(data.groupby('participant')['rt'].std())\n",
    "    rt_mean_3std = rt_means + 3*rt_std\n",
    "    rt_mean_3std = dict(zip(participants, rt_mean_3std))\n",
    "    data['rt_means_3std'] = data['participant'].map(rt_mean_3std)\n",
    "    data = data.loc[data['rt'] < data['rt_means_3std']]\n",
    "    return (data)"
   ]
  },
  {
   "cell_type": "code",
   "execution_count": 8,
   "id": "81d7171a",
   "metadata": {
    "scrolled": true
   },
   "outputs": [],
   "source": [
    "def corr_computation(data):\n",
    "    corr_matrix = (data\n",
    "                           .groupby(['model', 'participant', 'e_train', 'e_test', 'day'])\n",
    "                           [['rt','rt_predicted']]\n",
    "                           .corr())\n",
    "\n",
    "    corr_matrix.reset_index(inplace = True)\n",
    "    corr_matrix.drop(['level_5', 'rt'], axis = 1, inplace = True)\n",
    "    matrix = corr_matrix.loc[corr_matrix['rt_predicted'] !=1]\n",
    "    matrix['r_sqr'] = matrix.rt_predicted**2\n",
    "    matrix.drop('rt_predicted', 1, inplace = True)\n",
    "    #data =  matrix.drop('day', axis = 1)\n",
    "    #data = data.groupby(['model', 'participant', 'e_train', 'e_test']).sum()\n",
    "    return (matrix)"
   ]
  },
  {
   "cell_type": "code",
   "execution_count": 9,
   "id": "a1863c48",
   "metadata": {
    "scrolled": false
   },
   "outputs": [],
   "source": [
    "def data_pivot_add_diffs(data):\n",
    "    data = data.pivot(index = ['day', 'participant', 'e_test'], columns = ['model'], values = ['r_sqr'])\n",
    "    data = data.unstack(0)\n",
    "    colnames = [item[1:3] for item in data.columns]\n",
    "    data.columns = pd.MultiIndex.from_tuples(colnames, names=[\"model\", \"day\"])\n",
    "    \n",
    "    #add_diffs\n",
    "    #data['GT_diff'] = data[('GroundTruth', 9.0)] - data[('GroundTruth', 8.0)]\n",
    "    data['iHMM_diff'] = data[('iHMM', 9.0)] - data[('iHMM', 8.0)]\n",
    "    \n",
    "    \n",
    "    return (data)"
   ]
  },
  {
   "cell_type": "code",
   "execution_count": 10,
   "id": "9e638f13",
   "metadata": {},
   "outputs": [],
   "source": [
    "def data_pivot_add_diffs2(data):\n",
    "    data = data.pivot(index = ['day', 'participant', 'e_test'], columns = ['model'], values = ['r_sqr'])\n",
    "    data = data.unstack(0)\n",
    "    colnames = [item[1:3] for item in data.columns]\n",
    "    data.columns = pd.MultiIndex.from_tuples(colnames, names=[\"model\", \"day\"])\n",
    "    \n",
    "    #add_diffs\n",
    "    #data['GT_diff'] = data[('GroundTruth', 8.0)] - data[('GroundTruth', 7.0)]\n",
    "    data['iHMM_diff'] = data[('iHMM', 8.0)] - data[('iHMM', 7.0)]\n",
    "    \n",
    "    return (data)"
   ]
  },
  {
   "cell_type": "markdown",
   "id": "27bb54e1",
   "metadata": {},
   "source": [
    "## Transform the D8-D9 crossover data "
   ]
  },
  {
   "cell_type": "code",
   "execution_count": 11,
   "id": "b985267e",
   "metadata": {
    "scrolled": false
   },
   "outputs": [
    {
     "name": "stderr",
     "output_type": "stream",
     "text": [
      "/var/folders/j5/sdcqcn450vj04kd1_kb4xv6c0000gn/T/ipykernel_63693/2566535092.py:10: SettingWithCopyWarning: \n",
      "A value is trying to be set on a copy of a slice from a DataFrame.\n",
      "Try using .loc[row_indexer,col_indexer] = value instead\n",
      "\n",
      "See the caveats in the documentation: https://pandas.pydata.org/pandas-docs/stable/user_guide/indexing.html#returning-a-view-versus-a-copy\n",
      "  matrix['r_sqr'] = matrix.rt_predicted**2\n",
      "/var/folders/j5/sdcqcn450vj04kd1_kb4xv6c0000gn/T/ipykernel_63693/2566535092.py:11: FutureWarning: In a future version of pandas all arguments of DataFrame.drop except for the argument 'labels' will be keyword-only\n",
      "  matrix.drop('rt_predicted', 1, inplace = True)\n",
      "/Users/szekelyanna/opt/anaconda3/lib/python3.9/site-packages/pandas/core/frame.py:4906: SettingWithCopyWarning: \n",
      "A value is trying to be set on a copy of a slice from a DataFrame\n",
      "\n",
      "See the caveats in the documentation: https://pandas.pydata.org/pandas-docs/stable/user_guide/indexing.html#returning-a-view-versus-a-copy\n",
      "  return super().drop(\n"
     ]
    }
   ],
   "source": [
    "data_d8_d9 = corr_computation(drop_RTs_above_3std(data))\n",
    "data_d8_d9 = data_pivot_add_diffs(data_d8_d9)"
   ]
  },
  {
   "cell_type": "code",
   "execution_count": 12,
   "id": "01a97fc8",
   "metadata": {},
   "outputs": [],
   "source": [
    "data_d8_d9.rename(columns = {8.0:'CT_D8', 9.0: 'CT_D9', '': 'iHMM_diff'}, inplace = True)\n",
    "data_d8_d9 = data_d8_d9.droplevel(0, axis = 1)\n",
    "data_d8_d9.reset_index(inplace = True)"
   ]
  },
  {
   "cell_type": "code",
   "execution_count": 13,
   "id": "311f4f02",
   "metadata": {},
   "outputs": [],
   "source": [
    "data_d8_d9.loc[data_d8_d9['e_test'].isin(['176_185']), 'test_day'] = 'D8'\n",
    "data_d8_d9.loc[data_d8_d9['e_test'].isin(['201_214']), 'test_day'] = 'D9'"
   ]
  },
  {
   "cell_type": "code",
   "execution_count": 14,
   "id": "c00928ae",
   "metadata": {},
   "outputs": [],
   "source": [
    "data_d8_d9.loc[data_d8_d9['test_day'] == 'D8', 'corresp_advtg'] = data_d8_d9['CT_D8'] -  data_d8_d9['CT_D9']  \n",
    "data_d8_d9.loc[data_d8_d9['test_day'] == 'D9', 'corresp_advtg'] = data_d8_d9['CT_D9'] -  data_d8_d9['CT_D8']  "
   ]
  },
  {
   "cell_type": "code",
   "execution_count": 15,
   "id": "a9647ce5",
   "metadata": {},
   "outputs": [],
   "source": [
    "data_d8_d9_cross = (data_d8_d9[['participant', 'test_day', 'corresp_advtg']]\n",
    "                                  .groupby(['participant', 'test_day'])\n",
    "                                  .mean()\n",
    "                                  .unstack()\n",
    "                   )\n",
    "\n",
    "data_d8_d9_cross = data_d8_d9_cross.droplevel(0, axis = 1)#.columns.name = None\n",
    "data_d8_d9_cross.columns.name = None\n",
    "data_d8_d9_cross.reset_index(inplace=True);"
   ]
  },
  {
   "cell_type": "markdown",
   "id": "dccb74d2",
   "metadata": {},
   "source": [
    "## Transform the D7-D8 crossover data"
   ]
  },
  {
   "cell_type": "code",
   "execution_count": 16,
   "id": "1a04c245",
   "metadata": {
    "scrolled": true
   },
   "outputs": [
    {
     "name": "stderr",
     "output_type": "stream",
     "text": [
      "/var/folders/j5/sdcqcn450vj04kd1_kb4xv6c0000gn/T/ipykernel_63693/2566535092.py:10: SettingWithCopyWarning: \n",
      "A value is trying to be set on a copy of a slice from a DataFrame.\n",
      "Try using .loc[row_indexer,col_indexer] = value instead\n",
      "\n",
      "See the caveats in the documentation: https://pandas.pydata.org/pandas-docs/stable/user_guide/indexing.html#returning-a-view-versus-a-copy\n",
      "  matrix['r_sqr'] = matrix.rt_predicted**2\n",
      "/var/folders/j5/sdcqcn450vj04kd1_kb4xv6c0000gn/T/ipykernel_63693/2566535092.py:11: FutureWarning: In a future version of pandas all arguments of DataFrame.drop except for the argument 'labels' will be keyword-only\n",
      "  matrix.drop('rt_predicted', 1, inplace = True)\n"
     ]
    }
   ],
   "source": [
    "data_d7_d8 = corr_computation(drop_RTs_above_3std(data_d7_d8_raw))\n",
    "data_d7_d8 = data_pivot_add_diffs2(data_d7_d8)"
   ]
  },
  {
   "cell_type": "code",
   "execution_count": 17,
   "id": "38395dac",
   "metadata": {},
   "outputs": [],
   "source": [
    "data_d7_d8.rename(columns = {7.0:'CT_D7', 8.0: 'CT_D8', '': 'iHMM_diff'}, inplace = True)\n",
    "data_d7_d8 = data_d7_d8.droplevel(0, axis = 1)\n",
    "data_d7_d8.reset_index(inplace = True)"
   ]
  },
  {
   "cell_type": "code",
   "execution_count": 18,
   "id": "ff3f2b7e",
   "metadata": {},
   "outputs": [],
   "source": [
    "data_d7_d8.loc[data_d7_d8['e_test'].isin(['151_160']), 'test_day'] = 'D7'\n",
    "data_d7_d8.loc[data_d7_d8['e_test'].isin(['176_185']), 'test_day'] = 'D8'\n",
    "\n",
    "data_d7_d8.loc[data_d7_d8['test_day'] == 'D7', 'corresp_advtg'] = data_d7_d8['CT_D7'] -  data_d7_d8['CT_D8']  \n",
    "data_d7_d8.loc[data_d7_d8['test_day'] == 'D8', 'corresp_advtg'] = data_d7_d8['CT_D8'] -  data_d7_d8['CT_D7']  "
   ]
  },
  {
   "cell_type": "code",
   "execution_count": 19,
   "id": "a44062cf",
   "metadata": {},
   "outputs": [],
   "source": [
    "data_d7_d8_cross = (data_d7_d8[['participant', 'test_day', 'corresp_advtg']]\n",
    "                                  .groupby(['participant', 'test_day'])\n",
    "                                  .mean()\n",
    "                                  .unstack()\n",
    "                   )\n",
    "\n",
    "data_d7_d8_cross = data_d7_d8_cross.droplevel(0, axis = 1)#.columns.name = None\n",
    "data_d7_d8_cross.columns.name = None\n",
    "data_d7_d8_cross.reset_index(inplace=True);"
   ]
  },
  {
   "cell_type": "markdown",
   "id": "022b2333",
   "metadata": {},
   "source": [
    "## Merge the D7 and D8 datasets"
   ]
  },
  {
   "cell_type": "code",
   "execution_count": 20,
   "id": "85ce563c",
   "metadata": {},
   "outputs": [],
   "source": [
    "data_d7_d8_cross.set_index('participant', inplace = True)\n",
    "data_d8_d9_cross.set_index('participant', inplace = True)\n",
    "data_d8_d9_cross.rename(columns = {'D8':'d8d9_D8', 'D9':'d8d9_D9'}, inplace = True)\n",
    "data_d7_d8_cross.rename(columns = {'D7':'d7d8_D7', 'D8':'d7d8_D8'}, inplace = True)\n",
    "cross_data = pd.concat([data_d8_d9_cross, data_d7_d8_cross], axis=1)\n",
    "cross_data.reset_index(inplace=True)"
   ]
  },
  {
   "cell_type": "markdown",
   "id": "2dc483db",
   "metadata": {},
   "source": [
    "## Manuscript plots"
   ]
  },
  {
   "cell_type": "code",
   "execution_count": 21,
   "id": "9f7c9844",
   "metadata": {},
   "outputs": [],
   "source": [
    "def get_x_jitter(df, columns,jitter = 0.05):\n",
    "    \n",
    "    '''\n",
    "    Columns expected to be a list. \n",
    "    \n",
    "    '''\n",
    "    jitter = jitter\n",
    "    x_jitter = pd.DataFrame(np.random.normal(loc=0,\n",
    "                                             scale=jitter, \n",
    "                                             size=df.values.shape),\n",
    "                                             columns=df.columns)\n",
    "    # ennek a sornak az a lényege, hogy növekvő értékűvé tegye a random noise data-t. \n",
    "    # Tehát az első oszlophoz 0-t, a másidikhoz 1-et adok hozzá hozzá. \n",
    "\n",
    "    x_jitter[columns] += np.arange(len(columns))\n",
    "    return (x_jitter[columns])"
   ]
  },
  {
   "cell_type": "code",
   "execution_count": 22,
   "id": "f03e127b",
   "metadata": {},
   "outputs": [],
   "source": [
    "def plot_crossover(data = data, columns = 'columns', title = None, colors = ['#fa9a50', '#006366'], legend = False): #axes = ax,\n",
    "    \n",
    "    '''\n",
    "    This function is to make the plotting a bit more easy to overview. \n",
    "    \n",
    "    '''\n",
    "    \n",
    "    data.participant = data.participant.astype('int')\n",
    "    x_jitter = get_x_jitter(data, columns)\n",
    "\n",
    "\n",
    "    means = []\n",
    "    for col in data[columns]:\n",
    "        \n",
    "            means.append(data[col].mean())\n",
    "            ax.plot(x_jitter.loc[:, col], data.loc[:, col], 'o', zorder=1, ms=pp.markersize_matplotlib, color = pp.basic_color, alpha = 0.8)\n",
    "            ax.set_xticks([0, 1])\n",
    "            ax.set_xticklabels([item[-2:] for item in columns], fontsize = pp.ticklabsize)\n",
    "            ax.set_xlim(-0.5,1.5)\n",
    "            ax.set_ylim(-.15,.35)\n",
    "            ax.set_yticks([0, 0.2])\n",
    "            ax.set_yticklabels([0, 0.2], fontsize = pp.ticklabsize)\n",
    "\n",
    "    for idx in data.index:\n",
    "        ax.plot(x_jitter.loc[idx, columns],\n",
    "                data.loc[idx, columns],\n",
    "                color = 'grey', \n",
    "                linewidth = 0.3, linestyle = '--', zorder=-1)\n",
    "\n",
    "        ax.spines.right.set_visible(False)\n",
    "        ax.spines.top.set_visible(False)\n",
    "        ax.axhline(y = 0, color = 'brown', linewidth = 1)\n",
    "        #####\n",
    "        ax.set_title(title, size = 34, y = 1.1)\n",
    "        ax.set_ylabel('Relative performance', fontsize = pp.axlabsize)\n",
    "        \n",
    "        if legend: \n",
    "            \n",
    "            handles, labels = ax[c].get_legend_handles_labels()\n",
    "            by_label = dict(zip(labels, handles))\n",
    "            ax.legend(by_label.values(), by_label.keys(), frameon = False, fontsize = 24, loc = (-0.02,0.8))\n",
    "    \n",
    "    \n",
    "    plt.plot(0, means[0], marker = 'X', markersize = 16, color = '#ff8c00', mew = 1)\n",
    "    plt.plot(1, means[1], marker = 'X', markersize = 16, color = '#ff8c00', mew = 1)"
   ]
  },
  {
   "cell_type": "code",
   "execution_count": 23,
   "id": "1972536e",
   "metadata": {},
   "outputs": [],
   "source": [
    "x_jitter = get_x_jitter(cross_data, cross_data.columns[1:])"
   ]
  },
  {
   "cell_type": "code",
   "execution_count": 24,
   "id": "ef841274",
   "metadata": {
    "scrolled": false
   },
   "outputs": [
    {
     "data": {
      "image/png": "[encoded data removed]",
      "text/plain": [
       "<Figure size 460.8x345.6 with 1 Axes>"
      ]
     },
     "metadata": {},
     "output_type": "display_data"
    }
   ],
   "source": [
    "fig, ax = plt.subplots(1, 1,  figsize = pp.figsize, facecolor = 'white')\n",
    "plot_crossover(data = cross_data, columns = ['d7d8_D7', 'd7d8_D8'], legend = False)\n",
    "fig.tight_layout()"
   ]
  },
  {
   "cell_type": "code",
   "execution_count": 25,
   "id": "9d686622",
   "metadata": {},
   "outputs": [],
   "source": [
    "# fig.savefig('/Users/szekelyanna/Dropbox/CSNL/cognitive_tomography/analysis_2022/plots/manuscript_plots_standard/' +'transfer_test_D7_D8.pdf', bbox_inches='tight')\n",
    "# fig.savefig('/Users/szekelyanna/Dropbox/CSNL/cognitive_tomography/analysis_2022/plots/manuscript_plots_standard/' +'transfer_test_D7_D8.png', bbox_inches='tight')"
   ]
  },
  {
   "cell_type": "markdown",
   "id": "470e2e1a",
   "metadata": {},
   "source": [
    "## T tests for D7-D8 crossover"
   ]
  },
  {
   "cell_type": "code",
   "execution_count": 26,
   "id": "ca95a7e3",
   "metadata": {
    "scrolled": false
   },
   "outputs": [
    {
     "name": "stdout",
     "output_type": "stream",
     "text": [
      "Independent t-test t-value: 4.685, p-value: 0.000***, df:24.\n",
      "Independent t-test t-value: -0.652, p-value: 0.520, df:24.\n",
      "\n",
      "****\n",
      "previous stats: Independent t-test t-value: 3.506, p-value: 0.002**, df:22.\n",
      "Independent t-test t-value: -0.573, p-value: 0.572, df:22. \n",
      "Degrees of freedom = 22\n"
     ]
    }
   ],
   "source": [
    "res = scipy.stats.ttest_1samp(cross_data['d7d8_D7'].dropna(), popmean = 0)\n",
    "(print (f'Independent t-test t-value: {res.statistic:.3f}, p-value: {res.pvalue:.3f}{get_stars(res.pvalue)}, df:{res.df}.'))\n",
    "res = scipy.stats.ttest_1samp(cross_data['d7d8_D8'].dropna(), popmean = 0)\n",
    "(print (f'Independent t-test t-value: {res.statistic:.3f}, p-value: {res.pvalue:.3f}{get_stars(res.pvalue)}, df:{res.df}.'))\n",
    "\n",
    "\n",
    "print('\\n****\\nprevious stats: Independent t-test t-value: 3.506, p-value: 0.002**, df:22.\\nIndependent t-test t-value: -0.573, p-value: 0.572, df:22. \\nDegrees of freedom = 22')"
   ]
  },
  {
   "cell_type": "code",
   "execution_count": 27,
   "id": "73e0ce28",
   "metadata": {},
   "outputs": [
    {
     "data": {
      "image/png": "[encoded data removed]",
      "text/plain": [
       "<Figure size 460.8x345.6 with 1 Axes>"
      ]
     },
     "metadata": {},
     "output_type": "display_data"
    }
   ],
   "source": [
    "fig, ax = plt.subplots(1, 1,  figsize = pp.figsize, facecolor = 'white', sharey = False)\n",
    "plot_crossover(data = cross_data, columns = ['d8d9_D8', 'd8d9_D9'])\n",
    "fig.tight_layout()"
   ]
  },
  {
   "cell_type": "code",
   "execution_count": 28,
   "id": "66a48dcf",
   "metadata": {},
   "outputs": [],
   "source": [
    "# fig.savefig('/Users/szekelyanna/Dropbox/CSNL/cognitive_tomography/analysis_2022/plots/manuscript_plots_standard/' +'transfer_test_D8_D9.pdf', bbox_inches='tight')\n",
    "# fig.savefig('/Users/szekelyanna/Dropbox/CSNL/cognitive_tomography/analysis_2022/plots/manuscript_plots_standard/' +'transfer_test_D8_D9.png', bbox_inches='tight')"
   ]
  },
  {
   "cell_type": "markdown",
   "id": "9a017647",
   "metadata": {},
   "source": [
    "## T-tests for D8-D9 crossover"
   ]
  },
  {
   "cell_type": "code",
   "execution_count": 29,
   "id": "b85e7118",
   "metadata": {
    "scrolled": false
   },
   "outputs": [
    {
     "name": "stdout",
     "output_type": "stream",
     "text": [
      "Independent t-test t-value: 8.204, p-value: 0.000***, df:24.\n",
      "Independent t-test t-value: 7.426, p-value: 0.000***, df:24.\n"
     ]
    }
   ],
   "source": [
    "res = scipy.stats.ttest_1samp(cross_data['d8d9_D8'].dropna(), popmean = 0)\n",
    "(print (f'Independent t-test t-value: {res.statistic:.3f}, p-value: {res.pvalue:.3f}{get_stars(res.pvalue)}, df:{res.df}.'))\n",
    "res = scipy.stats.ttest_1samp(cross_data['d8d9_D9'].dropna(), popmean = 0)\n",
    "(print (f'Independent t-test t-value: {res.statistic:.3f}, p-value: {res.pvalue:.3f}{get_stars(res.pvalue)}, df:{res.df}.'))"
   ]
  },
  {
   "cell_type": "markdown",
   "id": "aa372516",
   "metadata": {},
   "source": [
    "# ANOVA to check whether D8-D9 means are higher than the D7-D8 means"
   ]
  },
  {
   "cell_type": "code",
   "execution_count": 30,
   "id": "14f20d1d",
   "metadata": {},
   "outputs": [
    {
     "name": "stdout",
     "output_type": "stream",
     "text": [
      "Anova f value: 26.861, p-value: 0.000***.\n",
      "previous stats: Anova f value: 12.740, p-value: 0.000***\n"
     ]
    }
   ],
   "source": [
    "res = scipy.stats.f_oneway(cross_data['d7d8_D7'].dropna(),\n",
    "                     cross_data['d7d8_D8'].dropna(),\n",
    "                     cross_data['d8d9_D8'].dropna(),\n",
    "                     cross_data['d8d9_D8'].dropna()\n",
    "                    )\n",
    "(print (f'Anova f value: {res.statistic:.3f}, p-value: {res.pvalue:.3f}{get_stars(res.pvalue)}.'))\n",
    "\n",
    "\n",
    "print('previous stats: Anova f value: 12.740, p-value: 0.000***')"
   ]
  },
  {
   "cell_type": "code",
   "execution_count": 31,
   "id": "23f60eaa",
   "metadata": {},
   "outputs": [
    {
     "name": "stdout",
     "output_type": "stream",
     "text": [
      "(25,)\n",
      "(25,)\n",
      "(25,)\n",
      "(25,)\n"
     ]
    }
   ],
   "source": [
    "print(cross_data['d7d8_D8'].dropna().shape)\n",
    "print(cross_data['d7d8_D8'].dropna().shape)\n",
    "\n",
    "print(cross_data['d8d9_D8'].dropna().shape)\n",
    "print(cross_data['d8d9_D8'].dropna().shape)"
   ]
  },
  {
   "cell_type": "code",
   "execution_count": 32,
   "id": "5de7b659",
   "metadata": {},
   "outputs": [],
   "source": [
    "result = scipy.stats.tukey_hsd(cross_data['d7d8_D7'].dropna(), ## group 0\n",
    "                               cross_data['d7d8_D8'].dropna(), ## group 1\n",
    "                               cross_data['d8d9_D8'].dropna(), ## group 2\n",
    "                               cross_data['d8d9_D8'].dropna()  ## group 3\n",
    "                           )"
   ]
  },
  {
   "cell_type": "code",
   "execution_count": 33,
   "id": "19166110",
   "metadata": {
    "scrolled": true
   },
   "outputs": [
    {
     "name": "stdout",
     "output_type": "stream",
     "text": [
      "Tukey's HSD Pairwise Group Comparisons (95.0% Confidence Interval)\n",
      "Comparison  Statistic  p-value  Lower CI  Upper CI\n",
      " (0 - 1)      0.045     0.037     0.002     0.088\n",
      " (0 - 2)     -0.077     0.000    -0.120    -0.034\n",
      " (0 - 3)     -0.077     0.000    -0.120    -0.034\n",
      " (1 - 0)     -0.045     0.037    -0.088    -0.002\n",
      " (1 - 2)     -0.122     0.000    -0.164    -0.079\n",
      " (1 - 3)     -0.122     0.000    -0.164    -0.079\n",
      " (2 - 0)      0.077     0.000     0.034     0.120\n",
      " (2 - 1)      0.122     0.000     0.079     0.164\n",
      " (2 - 3)      0.000     1.000    -0.043     0.043\n",
      " (3 - 0)      0.077     0.000     0.034     0.120\n",
      " (3 - 1)      0.122     0.000     0.079     0.164\n",
      " (3 - 2)      0.000     1.000    -0.043     0.043\n",
      "\n"
     ]
    }
   ],
   "source": [
    "print(result)"
   ]
  },
  {
   "cell_type": "code",
   "execution_count": 34,
   "id": "8d547eb8",
   "metadata": {},
   "outputs": [],
   "source": [
    "## várakozások: 0 alacsonyabb a 2. 3-nál - ok. \n",
    "##              1 alacsonyabb a 2. 3-nák - ok. \n",
    "##              2 magasabb a 0-nál és 1-nél\n",
    "##              3 magasabb a 0-nál és 1-nél.\n"
   ]
  },
  {
   "cell_type": "markdown",
   "id": "dc852e37",
   "metadata": {},
   "source": [
    "## MEANS"
   ]
  },
  {
   "cell_type": "code",
   "execution_count": 35,
   "id": "d661ad44",
   "metadata": {},
   "outputs": [
    {
     "name": "stdout",
     "output_type": "stream",
     "text": [
      "D8-D9 comparison D8 mean: 0.116, std 0.071\n",
      "D8-D9 comparison D9 mean: 0.084, std 0.057\n",
      "D7-D8 comparison D7 mean: 0.040, std 0.042\n",
      "D7-D8 comparison D8 mean: -0.005, std 0.040\n"
     ]
    }
   ],
   "source": [
    "mean = cross_data.d8d9_D8.mean()\n",
    "std = cross_data.d8d9_D8.std()\n",
    "print(f'D8-D9 comparison D8 mean: {mean:.3f}, std {std:.3f}')\n",
    "\n",
    "\n",
    "mean = cross_data.d8d9_D9.mean()\n",
    "std = cross_data.d8d9_D9.std()\n",
    "print (f'D8-D9 comparison D9 mean: {mean:.3f}, std {std:.3f}')\n",
    "\n",
    "\n",
    "mean = cross_data.d7d8_D7.mean()\n",
    "std = cross_data.d7d8_D7.std()\n",
    "print(f'D7-D8 comparison D7 mean: {mean:.3f}, std {std:.3f}')\n",
    "\n",
    "\n",
    "mean = cross_data.d7d8_D8.mean()\n",
    "std = cross_data.d7d8_D8.std()\n",
    "print (f'D7-D8 comparison D8 mean: {mean:.3f}, std {std:.3f}')"
   ]
  },
  {
   "cell_type": "markdown",
   "id": "e2959c7d",
   "metadata": {},
   "source": [
    "Previous stats:\n",
    "\n",
    "D8-D9 comparison D8 mean: 0.105, std 0.091\n",
    "\n",
    "D8-D9 comparison D9 mean: 0.095, std 0.074\n",
    "\n",
    "D7-D8 comparison D7 mean: 0.038, std 0.052\n",
    "\n",
    "D7-D8 comparison D8 mean: -0.006, std 0.049"
   ]
  },
  {
   "cell_type": "markdown",
   "id": "55289dfa",
   "metadata": {},
   "source": [
    "### TRANSFER SCORE vs. zigzag score"
   ]
  },
  {
   "cell_type": "code",
   "execution_count": 36,
   "id": "55f7c88b",
   "metadata": {},
   "outputs": [],
   "source": [
    "cross_data['D8D9_transfer_score'] = cross_data['d8d9_D8']*cross_data['d8d9_D9']*100"
   ]
  },
  {
   "cell_type": "code",
   "execution_count": 37,
   "id": "25e6c1cc",
   "metadata": {
    "scrolled": true
   },
   "outputs": [
    {
     "data": {
      "text/plain": [
       "d8d9_D8                0\n",
       "d8d9_D9                0\n",
       "d7d8_D7                0\n",
       "d7d8_D8                0\n",
       "D8D9_transfer_score    0\n",
       "dtype: int64"
      ]
     },
     "execution_count": 37,
     "metadata": {},
     "output_type": "execute_result"
    }
   ],
   "source": [
    "cross_data.set_index('participant', inplace = True)\n",
    "cross_data.isnull().sum()"
   ]
  },
  {
   "cell_type": "code",
   "execution_count": 40,
   "id": "d89770ed",
   "metadata": {},
   "outputs": [],
   "source": [
    "zigzagscore = pd.read_csv('/Users/szekelyanna/Dropbox/CSNL/cognitive_tomography/analysis_2022/data/zigzagscore_no_missing.csv')\n",
    "zigzagscore.set_index('participant', inplace = True)\n",
    "cross_data = cross_data.join(zigzagscore)"
   ]
  },
  {
   "cell_type": "code",
   "execution_count": 41,
   "id": "42519b1c",
   "metadata": {},
   "outputs": [
    {
     "name": "stdout",
     "output_type": "stream",
     "text": [
      "r=0.504, p=0.010*\n"
     ]
    },
    {
     "data": {
      "image/png": "[encoded data removed]",
      "text/plain": [
       "<Figure size 432x288 with 1 Axes>"
      ]
     },
     "metadata": {
      "needs_background": "light"
     },
     "output_type": "display_data"
    }
   ],
   "source": [
    "sns.regplot(data = cross_data, x = 'D8D9_transfer_score', y = 'zigzagscore')\n",
    "r, p = sp.stats.pearsonr(x=cross_data.D8D9_transfer_score, y=cross_data.zigzagscore)\n",
    "print ('r={:.3f}, p={:.3f}{}'.format(r, p, get_stars(p)));"
   ]
  }
 ],
 "metadata": {
  "kernelspec": {
   "display_name": "Python 3 (ipykernel)",
   "language": "python",
   "name": "python3"
  },
  "language_info": {
   "codemirror_mode": {
    "name": "ipython",
    "version": 3
   },
   "file_extension": ".py",
   "mimetype": "text/x-python",
   "name": "python",
   "nbconvert_exporter": "python",
   "pygments_lexer": "ipython3",
   "version": "3.9.7"
  }
 },
 "nbformat": 4,
 "nbformat_minor": 5
}
