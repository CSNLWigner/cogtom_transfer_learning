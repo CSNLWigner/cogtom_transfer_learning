{
 "cells": [
  {
   "cell_type": "markdown",
   "id": "3e6b0f0a",
   "metadata": {},
   "source": [
    "# Normative vs. alternative permutations\n"
   ]
  },
  {
   "cell_type": "code",
   "execution_count": 3,
   "id": "933f39f6",
   "metadata": {},
   "outputs": [],
   "source": [
    "import pandas as pd\n",
    "import seaborn as sns\n",
    "import sys\n",
    "sys.path.append('../..')\n",
    "from data_import import*\n",
    "import matplotlib.pyplot as plt\n",
    "import matplotlib.patches as patches\n",
    "import scipy as sp\n",
    "from helper import*\n",
    "from plot_params import*\n",
    "from paths import*"
   ]
  },
  {
   "cell_type": "code",
   "execution_count": 4,
   "id": "ce1e62d9",
   "metadata": {},
   "outputs": [],
   "source": [
    "paths = paths()\n",
    "pp = PlotParams()"
   ]
  },
  {
   "cell_type": "code",
   "execution_count": 5,
   "id": "259bb844",
   "metadata": {},
   "outputs": [],
   "source": [
    "f4_path = paths.f4_path+ 'NOGTHSH/'\n",
    "fig_save_path = paths.plot_save_path + 'permuted_phi/'\n",
    "GT_223_225 = 'NOGTHSH_ACROSS_SESSIONS_GT_train_on_223_225.csv'\n",
    "perm_phi = 'NOGTHSH_LEARNING_CURVES_D8_D9_permute_alter_sequences3_23_09_14.csv'"
   ]
  },
  {
   "cell_type": "markdown",
   "id": "007cd738",
   "metadata": {},
   "source": [
    "## Read the data"
   ]
  },
  {
   "cell_type": "code",
   "execution_count": 6,
   "id": "a68af013",
   "metadata": {
    "scrolled": false
   },
   "outputs": [],
   "source": [
    "D9GT_tag, D9GT = import_and_transform_data(f4_path, GT_223_225)\n",
    "#print (D9GT_tag)"
   ]
  },
  {
   "cell_type": "code",
   "execution_count": 7,
   "id": "a8fd9d6f",
   "metadata": {
    "scrolled": true
   },
   "outputs": [],
   "source": [
    "permuted_phi_tag, permuted_phi = import_and_transform_data(f4_path, perm_phi)\n",
    "#print (permuted_phi_tag)"
   ]
  },
  {
   "cell_type": "code",
   "execution_count": 8,
   "id": "364093d8",
   "metadata": {},
   "outputs": [],
   "source": [
    "#########################\n",
    "### Drop RTs aboove 3 std. \n",
    "D9GT = drop_RTs_above_3std_below_180(D9GT)\n",
    "permuted_phi = drop_RTs_above_3std_below_180(permuted_phi)"
   ]
  },
  {
   "cell_type": "code",
   "execution_count": 9,
   "id": "c5d0381f",
   "metadata": {},
   "outputs": [],
   "source": [
    "def get_rsqr_values(data, phi_seq = True):\n",
    "    \n",
    "    if phi_seq == True:\n",
    "        groupby = ['model', 'participant', 'phi_seq', 'block']\n",
    "        droplevel_num = 'level_4'\n",
    "    else:\n",
    "        groupby = ['model', 'participant', 'block']\n",
    "        droplevel_num = 'level_3'\n",
    "    \n",
    "    corr_matrix = (data.groupby(groupby)\n",
    "               [['rt', 'rt_predicted']]\n",
    "               .corr()\n",
    "              )\n",
    "    corr_matrix.reset_index(inplace = True)\n",
    "    corr_matrix.drop([droplevel_num, 'rt'], axis = 1, inplace = True)\n",
    "    matrix = corr_matrix.loc[corr_matrix['rt_predicted'] !=1]\n",
    "    matrix['r_sqr'] = matrix.rt_predicted**2\n",
    "    matrix.drop('rt_predicted', axis = 1, inplace = True)\n",
    "    return (matrix)"
   ]
  },
  {
   "cell_type": "code",
   "execution_count": 10,
   "id": "0c22ea4b",
   "metadata": {},
   "outputs": [],
   "source": [
    "permuted_phi.loc[permuted_phi['ini'].str.contains('alt1'), 'phi_seq'] = 'alt1'\n",
    "permuted_phi.loc[permuted_phi['ini'].str.contains('alt2'), 'phi_seq'] = 'alt2'\n",
    "permuted_phi.loc[permuted_phi['ini'].str.contains('alt3'), 'phi_seq'] = 'alt3'\n",
    "permuted_phi.loc[permuted_phi['ini'].str.contains('alt4'), 'phi_seq'] = 'alt4'\n",
    "permuted_phi.loc[permuted_phi['ini'].str.contains('D9_seq'), 'phi_seq'] = 'D9-seq'\n",
    "permuted_phi.loc[permuted_phi['ini'].isin(['saw', 'scissors', 'camino', 'silkroad']), 'phi_seq'] = 'D8-seq'\n",
    "permuted_phi_rsqr = get_rsqr_values(permuted_phi, phi_seq = True)"
   ]
  },
  {
   "cell_type": "code",
   "execution_count": 11,
   "id": "3a730390",
   "metadata": {},
   "outputs": [],
   "source": [
    "D9GT_rsqr = get_rsqr_values(D9GT, phi_seq=False)\n",
    "D9GT_rsqr = D9GT_rsqr.loc[D9GT_rsqr['block']> 200]\n",
    "D9GT_rsqr['phi_seq'] = 'D9GT'"
   ]
  },
  {
   "cell_type": "markdown",
   "id": "606cd9a5",
   "metadata": {},
   "source": [
    "## Concat the two frames\n",
    "\n"
   ]
  },
  {
   "cell_type": "code",
   "execution_count": 12,
   "id": "49d9dd39",
   "metadata": {},
   "outputs": [],
   "source": [
    "permuted_phi_rsqr2 = pd.concat([D9GT_rsqr, permuted_phi_rsqr], ignore_index=True, sort=False)\n",
    "permuted_phi_rsqr2.drop('model', axis=1, inplace=True)"
   ]
  },
  {
   "cell_type": "markdown",
   "id": "c879e146",
   "metadata": {},
   "source": [
    "# Normative vs. alter permutations"
   ]
  },
  {
   "cell_type": "code",
   "execution_count": 13,
   "id": "944e5b71",
   "metadata": {},
   "outputs": [],
   "source": [
    "permuted_phi_rsqr5 = permuted_phi_rsqr.loc[~(permuted_phi_rsqr['phi_seq'].isin(['D8-seq', 'D9-seq']))]\n",
    "permuted_phi_rsqr5 = permuted_phi_rsqr5.set_index(['participant', 'block'])\n",
    "permuted_phi_rsqr5.drop('model', axis = 1, inplace=True)"
   ]
  },
  {
   "cell_type": "code",
   "execution_count": 14,
   "id": "e2b71667",
   "metadata": {},
   "outputs": [
    {
     "data": {
      "text/plain": [
       "['alt1', 'alt2', 'alt3', 'alt4']"
      ]
     },
     "execution_count": 14,
     "metadata": {},
     "output_type": "execute_result"
    }
   ],
   "source": [
    "sequences = sorted(list(set([item for item in permuted_phi_rsqr5.phi_seq])))\n",
    "sequences"
   ]
  },
  {
   "cell_type": "code",
   "execution_count": 15,
   "id": "a7949040",
   "metadata": {},
   "outputs": [],
   "source": [
    "D9CT_data = permuted_phi_rsqr.loc[permuted_phi_rsqr['phi_seq'] == 'D9-seq']\n",
    "D9CT_data = D9CT_data.set_index(['participant', 'block'])[['r_sqr']]\n",
    "D9CT_data.rename(columns = {'r_sqr': 'D9CT_rsqr'}, inplace=True)"
   ]
  },
  {
   "cell_type": "code",
   "execution_count": 16,
   "id": "e335a862",
   "metadata": {},
   "outputs": [],
   "source": [
    "merged_frames = []\n",
    "for seqs in sequences:\n",
    "    df = permuted_phi_rsqr5.loc[permuted_phi_rsqr5['phi_seq']== seqs]\n",
    "    merged = pd.merge(df, D9CT_data, left_index=True, right_index=True)\n",
    "    merged_frames.append(merged)"
   ]
  },
  {
   "cell_type": "code",
   "execution_count": 17,
   "id": "c7fb07c6",
   "metadata": {},
   "outputs": [],
   "source": [
    "permuted_phi_rsqr6 = pd.concat(merged_frames)\n",
    "permuted_phi_rsqr6.rename(columns = {'r_sqr': 'alt_seq_rsqr'}, inplace = True)"
   ]
  },
  {
   "cell_type": "code",
   "execution_count": 18,
   "id": "ae3283c5",
   "metadata": {},
   "outputs": [],
   "source": [
    "permuted_phi_rsqr6.reset_index(inplace = True)\n",
    "permuted_phi_rsqr6 = permuted_phi_rsqr6.groupby(['participant', 'phi_seq']).mean()\n",
    "permuted_phi_rsqr6.reset_index(inplace=True)\n",
    "permuted_phi_rsqr6.drop('phi_seq', axis = 1, inplace=True)\n",
    "averaged_over_alterseqs = permuted_phi_rsqr6.groupby(['participant']).mean()"
   ]
  },
  {
   "cell_type": "code",
   "execution_count": 19,
   "id": "a40a0c3b",
   "metadata": {},
   "outputs": [
    {
     "data": {
      "image/png": "[encoded data removed]",
      "text/plain": [
       "<Figure size 460.8x345.6 with 1 Axes>"
      ]
     },
     "metadata": {},
     "output_type": "display_data"
    }
   ],
   "source": [
    "fig, axs = plt.subplots(figsize = pp.figsize, facecolor = 'white')\n",
    "\n",
    "\n",
    "sns_plot = sns.regplot(data=averaged_over_alterseqs, \n",
    "                       x = 'D9CT_rsqr', y = 'alt_seq_rsqr', color = pp.basic_color)\n",
    "\n",
    "\n",
    "\n",
    "sns_plot.set_xlim(0, 0.23)\n",
    "sns_plot.set_ylim(0, 0.23)\n",
    "sns_plot = sns.lineplot(x = [0,0.25],y= [0, 0.25], color = 'black', linewidth = 0.5)\n",
    "sns_plot.set_yticks([0.1, 0.2])\n",
    "sns_plot.set_yticklabels([0.1, 0.2], fontsize = pp.ticklabsize)\n",
    "sns_plot.set_xticks([0.1, 0.2])\n",
    "sns_plot.set_xticklabels([0.1, 0.2], fontsize =  pp.ticklabsize)\n",
    "sns.despine()\n",
    "\n",
    "\n",
    "sns_plot.set_ylabel(r'$\\sigma$(Alternative IMs)', fontsize = pp.axlabsize)\n",
    "sns_plot.set_xlabel(r'$\\sigma*$(Task 1 IM)', fontsize = pp.axlabsize);"
   ]
  },
  {
   "cell_type": "code",
   "execution_count": 20,
   "id": "20d0804a",
   "metadata": {},
   "outputs": [],
   "source": [
    "fig.savefig(paths.plot_save_path + 'manuscript_plots_standard/' +'alternative_permutations.pdf', bbox_inches='tight')\n",
    "fig.savefig(paths.plot_save_path + 'manuscript_plots_standard/' +'alternative_permutationse.png', bbox_inches='tight')"
   ]
  },
  {
   "cell_type": "markdown",
   "id": "df1f7b31",
   "metadata": {},
   "source": [
    "# T test to compare the normative and the alternative permutations"
   ]
  },
  {
   "cell_type": "code",
   "execution_count": 21,
   "id": "485d8650",
   "metadata": {
    "scrolled": true
   },
   "outputs": [
    {
     "data": {
      "text/plain": [
       "array(['D9GT', 'D8-seq', 'D9-seq', 'alt1', 'alt2', 'alt3', 'alt4'],\n",
       "      dtype=object)"
      ]
     },
     "execution_count": 21,
     "metadata": {},
     "output_type": "execute_result"
    }
   ],
   "source": [
    "permuted_phi_rsqr2.phi_seq.unique()"
   ]
  },
  {
   "cell_type": "code",
   "execution_count": 22,
   "id": "591e9636",
   "metadata": {},
   "outputs": [],
   "source": [
    "permuted_phi_rsqr2.loc[permuted_phi_rsqr2['phi_seq'] == 'D9-seq', 'perm_type'] = 'sigma_d8'\n",
    "permuted_phi_rsqr2.loc[permuted_phi_rsqr2['phi_seq'] == 'alt1', 'perm_type'] = 'alt'\n",
    "permuted_phi_rsqr2.loc[permuted_phi_rsqr2['phi_seq'] == 'alt2', 'perm_type'] = 'alt'\n",
    "permuted_phi_rsqr2.loc[permuted_phi_rsqr2['phi_seq'] == 'alt3', 'perm_type'] = 'alt'\n",
    "permuted_phi_rsqr2.loc[permuted_phi_rsqr2['phi_seq'] == 'alt4', 'perm_type'] = 'alt'"
   ]
  },
  {
   "cell_type": "code",
   "execution_count": 23,
   "id": "57417ad6",
   "metadata": {
    "scrolled": false
   },
   "outputs": [
    {
     "name": "stdout",
     "output_type": "stream",
     "text": [
      "perm_type\n",
      "alt         2500\n",
      "nan         1175\n",
      "sigma_d8     625\n",
      "Name: count, dtype: int64\n",
      "0\n"
     ]
    }
   ],
   "source": [
    "print(permuted_phi_rsqr2['perm_type'].value_counts())\n",
    "print(permuted_phi_rsqr2['perm_type'].isnull().sum())"
   ]
  },
  {
   "cell_type": "code",
   "execution_count": 24,
   "id": "5d2e89f6",
   "metadata": {},
   "outputs": [],
   "source": [
    "normative_permutation = permuted_phi_rsqr2.loc[permuted_phi_rsqr2['perm_type'] == 'sigma_d8'].r_sqr\n",
    "alternative_permutations = permuted_phi_rsqr2.loc[permuted_phi_rsqr2['perm_type'] == 'alt'].r_sqr"
   ]
  },
  {
   "cell_type": "code",
   "execution_count": 25,
   "id": "f20fe7d3",
   "metadata": {
    "scrolled": true
   },
   "outputs": [
    {
     "name": "stdout",
     "output_type": "stream",
     "text": [
      "Independent samples t-test t-value 5.098, p value: 0.000***, df: 3123\n"
     ]
    }
   ],
   "source": [
    "res = sp.stats.ttest_ind(normative_permutation, alternative_permutations, alternative = 'greater')\n",
    "print(f'Independent samples t-test t-value {res.statistic:.3f}, p value: {res.pvalue:.3f}{get_stars(res.pvalue)}, df: {res.df:.0f}')"
   ]
  },
  {
   "cell_type": "markdown",
   "id": "09922327",
   "metadata": {},
   "source": [
    "## Mean, std"
   ]
  },
  {
   "cell_type": "code",
   "execution_count": 31,
   "id": "30319122",
   "metadata": {},
   "outputs": [
    {
     "name": "stdout",
     "output_type": "stream",
     "text": [
      "Normative permutation mean: 0.074, std: 0.074\n",
      "Alternative permutations mean: 0.059, std: 0.066\n"
     ]
    }
   ],
   "source": [
    "mean = normative_permutation.mean()\n",
    "std = normative_permutation.std()\n",
    "print(f'Normative permutation mean: {mean:.3f}, std: {std:.3f}')\n",
    "\n",
    "mean = alternative_permutations.mean()\n",
    "std = alternative_permutations.std()\n",
    "print(f'Alternative permutations mean: {mean:.3f}, std: {std:.3f}')"
   ]
  },
  {
   "cell_type": "markdown",
   "id": "5952da11",
   "metadata": {},
   "source": [
    "## ANOVA for the 5 permutations - on the non-averaged datapoints"
   ]
  },
  {
   "cell_type": "code",
   "execution_count": 25,
   "id": "72eab96c",
   "metadata": {},
   "outputs": [
    {
     "name": "stdout",
     "output_type": "stream",
     "text": [
      "Anova f-value 7.495, p value: 0.000***\n"
     ]
    }
   ],
   "source": [
    "f_value, p_value = sp.stats.f_oneway(permuted_phi_rsqr2.loc[permuted_phi_rsqr2['phi_seq'] == 'D9-seq'].r_sqr,\n",
    "                                     permuted_phi_rsqr2.loc[permuted_phi_rsqr2['phi_seq'] == 'alt1'].r_sqr,\n",
    "                                     permuted_phi_rsqr2.loc[permuted_phi_rsqr2['phi_seq'] == 'alt2'].r_sqr,\n",
    "                                     permuted_phi_rsqr2.loc[permuted_phi_rsqr2['phi_seq'] == 'alt3'].r_sqr, \n",
    "                                     permuted_phi_rsqr2.loc[permuted_phi_rsqr2['phi_seq'] == 'alt4'].r_sqr)\n",
    "print(f'Anova f-value {f_value:.3f}, p value: {p_value:.3f}{get_stars(p_value)}')"
   ]
  },
  {
   "cell_type": "markdown",
   "id": "485e5aa3",
   "metadata": {},
   "source": [
    "## Post hoc test"
   ]
  },
  {
   "cell_type": "code",
   "execution_count": 26,
   "id": "54a8340f",
   "metadata": {},
   "outputs": [],
   "source": [
    "control = permuted_phi_rsqr2.loc[permuted_phi_rsqr2['phi_seq'] == 'D9-seq'].r_sqr"
   ]
  },
  {
   "cell_type": "code",
   "execution_count": 27,
   "id": "f671f6c6",
   "metadata": {
    "scrolled": false
   },
   "outputs": [],
   "source": [
    "dunett = sp.stats.dunnett(permuted_phi_rsqr2.loc[permuted_phi_rsqr2['phi_seq'] == 'alt1'].r_sqr,\n",
    "                 permuted_phi_rsqr2.loc[permuted_phi_rsqr2['phi_seq'] == 'alt2'].r_sqr,\n",
    "                 permuted_phi_rsqr2.loc[permuted_phi_rsqr2['phi_seq'] == 'alt3'].r_sqr,\n",
    "                 permuted_phi_rsqr2.loc[permuted_phi_rsqr2['phi_seq'] == 'alt4'].r_sqr,\n",
    "                 control=control, alternative='two-sided', random_state=None)"
   ]
  },
  {
   "cell_type": "code",
   "execution_count": 28,
   "id": "f7dcee5a",
   "metadata": {
    "scrolled": true
   },
   "outputs": [
    {
     "data": {
      "text/html": [
       "<div>\n",
       "<style scoped>\n",
       "    .dataframe tbody tr th:only-of-type {\n",
       "        vertical-align: middle;\n",
       "    }\n",
       "\n",
       "    .dataframe tbody tr th {\n",
       "        vertical-align: top;\n",
       "    }\n",
       "\n",
       "    .dataframe thead th {\n",
       "        text-align: right;\n",
       "    }\n",
       "</style>\n",
       "<table border=\"1\" class=\"dataframe\">\n",
       "  <thead>\n",
       "    <tr style=\"text-align: right;\">\n",
       "      <th></th>\n",
       "      <th>statistics</th>\n",
       "      <th>pvalue</th>\n",
       "    </tr>\n",
       "  </thead>\n",
       "  <tbody>\n",
       "    <tr>\n",
       "      <th>0</th>\n",
       "      <td>-4.812367</td>\n",
       "      <td>0.000***</td>\n",
       "    </tr>\n",
       "    <tr>\n",
       "      <th>1</th>\n",
       "      <td>-4.107752</td>\n",
       "      <td>0.000***</td>\n",
       "    </tr>\n",
       "    <tr>\n",
       "      <th>2</th>\n",
       "      <td>-4.310865</td>\n",
       "      <td>0.000***</td>\n",
       "    </tr>\n",
       "    <tr>\n",
       "      <th>3</th>\n",
       "      <td>-2.891581</td>\n",
       "      <td>0.014*</td>\n",
       "    </tr>\n",
       "  </tbody>\n",
       "</table>\n",
       "</div>"
      ],
      "text/plain": [
       "   statistics    pvalue\n",
       "0   -4.812367  0.000***\n",
       "1   -4.107752  0.000***\n",
       "2   -4.310865  0.000***\n",
       "3   -2.891581    0.014*"
      ]
     },
     "execution_count": 28,
     "metadata": {},
     "output_type": "execute_result"
    }
   ],
   "source": [
    "pvalue = [str('%.3f'% item)+get_stars(item) for item in list(dunett.pvalue)]\n",
    "Dunett_statistics = pd.DataFrame({'statistics':dunett.statistic, 'pvalue':pvalue})\n",
    "Dunett_statistics"
   ]
  }
 ],
 "metadata": {
  "kernelspec": {
   "display_name": "Python 3 (ipykernel)",
   "language": "python",
   "name": "python3"
  },
  "language_info": {
   "codemirror_mode": {
    "name": "ipython",
    "version": 3
   },
   "file_extension": ".py",
   "mimetype": "text/x-python",
   "name": "python",
   "nbconvert_exporter": "python",
   "pygments_lexer": "ipython3",
   "version": "3.9.7"
  }
 },
 "nbformat": 4,
 "nbformat_minor": 5
}
