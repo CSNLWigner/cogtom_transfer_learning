{
 "cells": [
  {
   "cell_type": "markdown",
   "id": "3e6b0f0a",
   "metadata": {},
   "source": [
    "# Sigma(CT) vs. sigma(GT)"
   ]
  },
  {
   "cell_type": "code",
   "execution_count": 22,
   "id": "933f39f6",
   "metadata": {},
   "outputs": [],
   "source": [
    "import pandas as pd\n",
    "import seaborn as sns\n",
    "import sys\n",
    "sys.path.append('../..')\n",
    "from data_import import*\n",
    "import matplotlib.pyplot as plt\n",
    "import matplotlib.patches as patches\n",
    "import scipy as sp\n",
    "from helper import*\n",
    "from plot_params import*\n",
    "from paths import*"
   ]
  },
  {
   "cell_type": "code",
   "execution_count": 23,
   "id": "d33d11a7",
   "metadata": {},
   "outputs": [],
   "source": [
    "pp = PlotParams()\n",
    "paths = paths()"
   ]
  },
  {
   "cell_type": "code",
   "execution_count": 24,
   "id": "b78dc776",
   "metadata": {},
   "outputs": [],
   "source": [
    "f4_path = paths.f4_path + 'NOGTHSH/'\n",
    "fig_save_path = paths.plot_save_path + '/permuted_phi/'\n",
    "GT_223_225 = 'NOGTHSH_ACROSS_SESSIONS_GT_train_on_223_225.csv'\n",
    "perm_phi = 'NOGTHSH_LEARNING_CURVES_D8_D9_permute_alter_sequences3_23_09_14.csv'"
   ]
  },
  {
   "cell_type": "code",
   "execution_count": 41,
   "id": "a68af013",
   "metadata": {
    "scrolled": true
   },
   "outputs": [],
   "source": [
    "D9GT_tag, D9GT = import_and_transform_data(f4_path, GT_223_225)\n",
    "#print (D9GT_tag)"
   ]
  },
  {
   "cell_type": "code",
   "execution_count": 42,
   "id": "a8fd9d6f",
   "metadata": {
    "scrolled": false
   },
   "outputs": [],
   "source": [
    "permuted_phi_tag, permuted_phi = import_and_transform_data(f4_path, perm_phi)\n",
    "# print (permuted_phi_tag)"
   ]
  },
  {
   "cell_type": "code",
   "execution_count": 43,
   "id": "9fe9ba70",
   "metadata": {},
   "outputs": [],
   "source": [
    "#########################\n",
    "### Drop RTs aboove 3 std. \n",
    "D9GT = drop_RTs_above_3std_below_180(D9GT)\n",
    "permuted_phi = drop_RTs_above_3std_below_180(permuted_phi)"
   ]
  },
  {
   "cell_type": "code",
   "execution_count": 44,
   "id": "0c22ea4b",
   "metadata": {},
   "outputs": [],
   "source": [
    "permuted_phi.loc[permuted_phi['ini'].str.contains('alt1'), 'phi_seq'] = 'alt1'\n",
    "permuted_phi.loc[permuted_phi['ini'].str.contains('alt2'), 'phi_seq'] = 'alt2'\n",
    "permuted_phi.loc[permuted_phi['ini'].str.contains('alt3'), 'phi_seq'] = 'alt3'\n",
    "permuted_phi.loc[permuted_phi['ini'].str.contains('alt4'), 'phi_seq'] = 'alt4'\n",
    "permuted_phi.loc[permuted_phi['ini'].str.contains('D9_seq'), 'phi_seq'] = 'D9-seq'\n",
    "permuted_phi.loc[permuted_phi['ini'].isin(['saw', 'scissors', 'camino', 'silkroad']), 'phi_seq'] = 'D8-seq'"
   ]
  },
  {
   "cell_type": "code",
   "execution_count": 45,
   "id": "c5d0381f",
   "metadata": {},
   "outputs": [],
   "source": [
    "def get_rsqr_values(data, phi_seq = True):\n",
    "    \n",
    "    if phi_seq == True:\n",
    "        groupby = ['model', 'participant', 'phi_seq', 'block']\n",
    "        droplevel_num = 'level_4'\n",
    "    else:\n",
    "        groupby = ['model', 'participant', 'block']\n",
    "        droplevel_num = 'level_3'\n",
    "    \n",
    "    corr_matrix = (data.groupby(groupby)\n",
    "               [['rt', 'rt_predicted']]\n",
    "               .corr()\n",
    "              )\n",
    "    corr_matrix.reset_index(inplace = True)\n",
    "    corr_matrix.drop([droplevel_num, 'rt'], axis = 1, inplace = True)\n",
    "    matrix = corr_matrix.loc[corr_matrix['rt_predicted'] !=1]\n",
    "    matrix['r_sqr'] = matrix.rt_predicted**2\n",
    "    matrix.drop('rt_predicted', axis = 1, inplace = True)\n",
    "    return (matrix)"
   ]
  },
  {
   "cell_type": "code",
   "execution_count": 46,
   "id": "3a730390",
   "metadata": {},
   "outputs": [],
   "source": [
    "D9GT_rsqr = get_rsqr_values(D9GT, phi_seq=False)\n",
    "D9GT_rsqr = D9GT_rsqr.loc[D9GT_rsqr['block']> 200]\n",
    "D9GT_rsqr['phi_seq'] = 'D9GT'\n",
    "permuted_phi_rsqr = get_rsqr_values(permuted_phi, phi_seq = True)"
   ]
  },
  {
   "cell_type": "markdown",
   "id": "606cd9a5",
   "metadata": {},
   "source": [
    "## Concat the two frames\n",
    "\n"
   ]
  },
  {
   "cell_type": "code",
   "execution_count": 47,
   "id": "49d9dd39",
   "metadata": {},
   "outputs": [],
   "source": [
    "permuted_phi_rsqr2 = pd.concat([D9GT_rsqr, permuted_phi_rsqr], ignore_index=True, sort=False)\n",
    "permuted_phi_rsqr2.drop('model', axis=1, inplace=True)"
   ]
  },
  {
   "cell_type": "code",
   "execution_count": 48,
   "id": "275f2c42",
   "metadata": {
    "scrolled": true
   },
   "outputs": [],
   "source": [
    "permuted_phi_rsqr_averaged = (permuted_phi_rsqr2\n",
    "                                                .groupby(['phi_seq', 'participant'])\n",
    "                                                .mean()\n",
    "                                                 .drop('block', axis = 1)\n",
    "                                                .unstack(0)\n",
    "                                                .droplevel(0, axis = 1)\n",
    "                                                .reset_index()\n",
    "                             )\n",
    "permuted_phi_rsqr_averaged.columns.name = None"
   ]
  },
  {
   "cell_type": "markdown",
   "id": "2df889db",
   "metadata": {},
   "source": [
    "## T-test: sigma(D8) differs from zero"
   ]
  },
  {
   "cell_type": "code",
   "execution_count": 49,
   "id": "dfea09aa",
   "metadata": {
    "scrolled": false
   },
   "outputs": [
    {
     "name": "stdout",
     "output_type": "stream",
     "text": [
      "One sample t-test p-value: 0.000***, t-value: 7.083.\n",
      "DF =  24\n"
     ]
    }
   ],
   "source": [
    "freedom = permuted_phi_rsqr_averaged['D9-seq'].shape[0]-1\n",
    "t_val, p_val = sp.stats.ttest_1samp(permuted_phi_rsqr_averaged['D9-seq'], popmean = 0) ## one-tailed lehetne\n",
    "print(f'One sample t-test p-value: {p_val:.3f}{get_stars(p_val)}, t-value: {t_val:.3f}.')\n",
    "print ('DF = ', freedom)"
   ]
  },
  {
   "cell_type": "markdown",
   "id": "16442521",
   "metadata": {},
   "source": [
    "## T-test: GT differs from zero"
   ]
  },
  {
   "cell_type": "code",
   "execution_count": 50,
   "id": "53423ac7",
   "metadata": {
    "scrolled": true
   },
   "outputs": [
    {
     "name": "stdout",
     "output_type": "stream",
     "text": [
      "One sample t-test p-value: 0.000***, t-value: 10.815.\n",
      "DF =  24\n"
     ]
    }
   ],
   "source": [
    "freedom = permuted_phi_rsqr_averaged['D9-seq'].shape[0]-1\n",
    "t_val, p_val = sp.stats.ttest_1samp(permuted_phi_rsqr_averaged['D9GT'], popmean = 0) ## one-tailed lehetne. \n",
    "print(f'One sample t-test p-value: {p_val:.3f}{get_stars(p_val)}, t-value: {t_val:.3f}.')\n",
    "print ('DF = ', freedom)"
   ]
  },
  {
   "cell_type": "markdown",
   "id": "70e26304",
   "metadata": {},
   "source": [
    "## Paired t-test to compare sigma(D8CT) and GT"
   ]
  },
  {
   "cell_type": "code",
   "execution_count": 51,
   "id": "9a3f5e6d",
   "metadata": {},
   "outputs": [
    {
     "name": "stdout",
     "output_type": "stream",
     "text": [
      "Paired t-test p-value: 0.000***, t-value: 5.446, df: 24\n"
     ]
    }
   ],
   "source": [
    "freedom = permuted_phi_rsqr_averaged['D9GT'].shape[0]-1\n",
    "t_val, p_val = sp.stats.ttest_rel(permuted_phi_rsqr_averaged['D9-seq'], permuted_phi_rsqr_averaged['D9GT'])\n",
    "print(f'Paired t-test p-value: {p_val:.3f}{get_stars(p_val)}, t-value: {t_val:.3f}, df: {freedom}')"
   ]
  },
  {
   "cell_type": "markdown",
   "id": "1998bfe8",
   "metadata": {},
   "source": [
    "# Plotting solution \n",
    "https://stackoverflow.com/questions/60164606/connecting-jittered-data-points-with-lines-seaborn-python"
   ]
  },
  {
   "cell_type": "markdown",
   "id": "be262e06",
   "metadata": {},
   "source": [
    "## Mean and std for sigma(D8CT) and GT"
   ]
  },
  {
   "cell_type": "code",
   "execution_count": 52,
   "id": "b1343cf4",
   "metadata": {},
   "outputs": [
    {
     "name": "stdout",
     "output_type": "stream",
     "text": [
      "Sigma(D8CT) mean: 0.075, std: 0.053\n",
      "GT mean: 0.019, std: 0.009\n"
     ]
    }
   ],
   "source": [
    "mean = permuted_phi_rsqr_averaged['D9-seq'].mean()\n",
    "std = permuted_phi_rsqr_averaged['D9-seq'].std()\n",
    "print(f'Sigma(D8CT) mean: {mean:.3f}, std: {std:.3f}')\n",
    "\n",
    "mean = permuted_phi_rsqr_averaged['D9GT'].mean()\n",
    "std = permuted_phi_rsqr_averaged['D9GT'].std()\n",
    "print(f'GT mean: {mean:.3f}, std: {std:.3f}')"
   ]
  },
  {
   "cell_type": "code",
   "execution_count": 53,
   "id": "af8ff130",
   "metadata": {},
   "outputs": [],
   "source": [
    "jitter = 0.05\n",
    "perm_phi_x_jitter = pd.DataFrame(np.random.normal(loc=0,\n",
    "                                                  scale=jitter, \n",
    "                                                  size=permuted_phi_rsqr_averaged.values.shape),\n",
    "                                                  columns=permuted_phi_rsqr_averaged.columns)\n",
    "## ennek a sornak az a lényege, hogy növekvő értékűvé tegye a random noise data-t. \n",
    "## Tehát az első oszlophoz 0-t, a másidikhoz 1-et adok hozzá hozzá. \n",
    "perm_phi_x_jitter[['D9-seq', 'D9GT']] += np.array([-0.2, 1])\n",
    "\n",
    "## Hasonlóan az előzőhöz, az alt sequence-eket elosztom a 0-1 közötti range-en. \n",
    "perm_phi_x_jitter[['alt1', 'alt2', 'alt3','alt4']] += np.arange(len(permuted_phi_rsqr_averaged[['alt1', 'alt2', 'alt3','alt4']].columns))/4 \n",
    "\n"
   ]
  },
  {
   "cell_type": "code",
   "execution_count": 54,
   "id": "4d4e8209",
   "metadata": {},
   "outputs": [
    {
     "data": {
      "image/png": "[encoded data removed]",
      "text/plain": [
       "<Figure size 460.8x345.6 with 1 Axes>"
      ]
     },
     "metadata": {},
     "output_type": "display_data"
    }
   ],
   "source": [
    "fig, ax = plt.subplots(figsize = pp.figsize, facecolor = 'white')\n",
    "for col in permuted_phi_rsqr_averaged[['D9-seq', 'D9GT']]:\n",
    "    ax.plot(perm_phi_x_jitter.loc[:,col], permuted_phi_rsqr_averaged[col], 'o', alpha = 0.8,\n",
    "            ms=pp.markersize_matplotlib, color = pp.basic_color)\n",
    "ax.set_xticks([-0.2, 1])\n",
    "#ax.set_xticklabels([r'$\\sigma*$(Task 1 IM)', r'$\\sigma(GT)$'], fontsize =pp.ticklabsize)\n",
    "ax.set_xticklabels([r'$\\sigma*$(Task 1 IM)', r'$\\sigma*(GT)$'], fontsize =pp.ticklabsize)\n",
    "ax.set_xlim(-0.5,1.5)\n",
    "\n",
    "ax.set_yticks([0, 0.1, 0.2])\n",
    "ax.set_yticklabels([0, 0.1, 0.2], fontsize = pp.ticklabsize)\n",
    "\n",
    "for idx in permuted_phi_rsqr_averaged.index:\n",
    "    ax.plot(perm_phi_x_jitter.loc[idx,['D9-seq','D9GT']],\n",
    "            permuted_phi_rsqr_averaged.loc[idx,['D9-seq','D9GT']],\n",
    "            color = 'grey', \n",
    "            linewidth = 0.3, linestyle = '--', zorder=-1)\n",
    "    \n",
    "    \n",
    "    \n",
    "    ax.scatter(perm_phi_x_jitter.loc[idx,['alt1','alt2', 'alt3', 'alt4']],\n",
    "               permuted_phi_rsqr_averaged.loc[idx,['alt1','alt2', 'alt3', 'alt4']],\n",
    "                                       marker = '+',\n",
    "                                       s = 55,\n",
    "                                       color = 'grey', \n",
    "                                       alpha = 0.6,\n",
    "                                       label = r'$\\sigma*$(Alternative IMs)')\n",
    "\n",
    "        \n",
    "ax.spines.right.set_visible(False)\n",
    "ax.spines.top.set_visible(False)\n",
    "\n",
    "handles, labels = plt.gca().get_legend_handles_labels()\n",
    "by_label = dict(zip(labels, handles))\n",
    "#plt.legend(by_label.values(), by_label.keys(), frameon = True, fontsize = 20, loc = (0,1.05));\n",
    "\n",
    "plt.ylabel(r'Predictive perf.', fontsize = pp.axlabsize);\n"
   ]
  },
  {
   "cell_type": "code",
   "execution_count": 55,
   "id": "c8dc4a94",
   "metadata": {},
   "outputs": [],
   "source": [
    "fig.savefig(paths.plot_save_path + '/manuscript_plots_standard/' +'subjective_belief_sigma_GT.pdf', bbox_inches='tight')\n",
    "fig.savefig(paths.plot_save_path + '/manuscript_plots_standard/' +'subjective_belief_sigma_GT.png', bbox_inches='tight')"
   ]
  }
 ],
 "metadata": {
  "kernelspec": {
   "display_name": "Python 3 (ipykernel)",
   "language": "python",
   "name": "python3"
  },
  "language_info": {
   "codemirror_mode": {
    "name": "ipython",
    "version": 3
   },
   "file_extension": ".py",
   "mimetype": "text/x-python",
   "name": "python",
   "nbconvert_exporter": "python",
   "pygments_lexer": "ipython3",
   "version": "3.9.7"
  }
 },
 "nbformat": 4,
 "nbformat_minor": 5
}
