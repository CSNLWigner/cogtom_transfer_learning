{
 "cells": [
  {
   "cell_type": "markdown",
   "id": "ba4aa0f9",
   "metadata": {},
   "source": [
    "# BOXPLOTS"
   ]
  },
  {
   "cell_type": "code",
   "execution_count": 2,
   "id": "9c7a1cbb",
   "metadata": {},
   "outputs": [],
   "source": [
    "import pandas as pd\n",
    "import numpy as np\n",
    "import time \n",
    "import matplotlib.pyplot as plt\n",
    "import matplotlib.pyplot as plt\n",
    "import seaborn as sns\n",
    "import scipy as sp\n",
    "import sys\n",
    "sys.path.append('../..')\n",
    "from data_import import*\n",
    "from helper import*\n",
    "from plot_params import*\n",
    "from scipy.stats import zscore\n",
    "from curlyBrace import curlyBrace\n",
    "from paths import*"
   ]
  },
  {
   "cell_type": "code",
   "execution_count": 3,
   "id": "664ee17d",
   "metadata": {},
   "outputs": [],
   "source": [
    "pp = PlotParams()\n",
    "paths = paths()"
   ]
  },
  {
   "cell_type": "code",
   "execution_count": 4,
   "id": "2418024f",
   "metadata": {},
   "outputs": [],
   "source": [
    "f4_path = paths.f4_path + '/NOGTHSH/'"
   ]
  },
  {
   "cell_type": "code",
   "execution_count": 5,
   "id": "a95f4d8e",
   "metadata": {},
   "outputs": [],
   "source": [
    "def corr_computation(data):\n",
    "    corr_matrix = (data\n",
    "                           .groupby(['model', 'participant', 'e_train', 'e_test', 'day'])\n",
    "                           [['rt','rt_predicted']]\n",
    "                           .corr())\n",
    "\n",
    "    corr_matrix.reset_index(inplace = True)\n",
    "    corr_matrix.drop(['level_5', 'rt'], axis = 1, inplace = True)\n",
    "    matrix = corr_matrix.loc[corr_matrix['rt_predicted'] !=1]\n",
    "    matrix['r_sqr'] = matrix.rt_predicted**2\n",
    "    matrix.drop('rt_predicted', axis = 1, inplace = True)\n",
    "    #data =  matrix.drop('day', axis = 1)\n",
    "    #data = data.groupby(['model', 'participant', 'e_train', 'e_test']).sum()\n",
    "    data = matrix.set_index(['model', 'participant', 'e_test'])\n",
    "    return (data)"
   ]
  },
  {
   "cell_type": "code",
   "execution_count": 7,
   "id": "47151905",
   "metadata": {
    "scrolled": false
   },
   "outputs": [],
   "source": [
    "data = import_and_transform_data(f4_path, 'NOGTHSH_LEARNING_CURVES_d10_NOG_218_225_4chain_23_09_06.csv')\n",
    "data_tag, data = data\n",
    "#print(data_tag)"
   ]
  },
  {
   "cell_type": "code",
   "execution_count": 8,
   "id": "cd477268",
   "metadata": {},
   "outputs": [],
   "source": [
    "data_with_cutoff = corr_computation(drop_RTs_above_3std_below_180(data))\n",
    "iHMM_data = data_with_cutoff.loc['iHMM', ['day', 'r_sqr']]\n",
    "iHMM_data.reset_index(inplace=True)"
   ]
  },
  {
   "cell_type": "markdown",
   "id": "787a502b",
   "metadata": {},
   "source": [
    "# Crossover"
   ]
  },
  {
   "cell_type": "markdown",
   "id": "0ebeb3e1",
   "metadata": {},
   "source": [
    "# T-tests"
   ]
  },
  {
   "cell_type": "code",
   "execution_count": 9,
   "id": "3d45353f",
   "metadata": {},
   "outputs": [],
   "source": [
    "iHMM_data = iHMM_data.pivot(index = ['participant', 'e_test'], columns = 'day', values = 'r_sqr')\n",
    "iHMM_data.columns = ['d8_model', 'd9_model']\n",
    "iHMM_data['diff'] = iHMM_data['d8_model'] - iHMM_data['d9_model']\n",
    "iHMM_data.reset_index('e_test', inplace = True)"
   ]
  },
  {
   "cell_type": "code",
   "execution_count": 10,
   "id": "28e95da7",
   "metadata": {},
   "outputs": [],
   "source": [
    "d9_blocks = ['227_230', '232_235', '237_240', '242_245']"
   ]
  },
  {
   "cell_type": "code",
   "execution_count": 11,
   "id": "9c6e585f",
   "metadata": {
    "scrolled": true
   },
   "outputs": [
    {
     "data": {
      "text/plain": [
       "e_test      0\n",
       "d8_model    0\n",
       "d9_model    0\n",
       "diff        0\n",
       "dtype: int64"
      ]
     },
     "execution_count": 11,
     "metadata": {},
     "output_type": "execute_result"
    }
   ],
   "source": [
    "iHMM_data.isnull().sum()"
   ]
  },
  {
   "cell_type": "code",
   "execution_count": 12,
   "id": "d76a1bfe",
   "metadata": {},
   "outputs": [
    {
     "name": "stdout",
     "output_type": "stream",
     "text": [
      "Dependent t-test for blocks 227_230 and 232_235. P-value: 0.000***, t-value: 8.413.\n",
      "Dependent t-test for blocks 232_235 and 237_240. P-value: 0.000***, t-value: -7.573.\n",
      "Dependent t-test for blocks 237_240 and 242_245. P-value: 0.000***, t-value: 6.574.\n"
     ]
    }
   ],
   "source": [
    "for i in range(0,3):\n",
    "    \n",
    "    set1 = iHMM_data.loc[iHMM_data['e_test'] == d9_blocks[i]]['diff']\n",
    "    set2 = iHMM_data.loc[iHMM_data['e_test'] == d9_blocks[i+1]]['diff']\n",
    "    \n",
    "    t_test = sp.stats.ttest_rel(set1, set2)\n",
    "    t_value, p_value = t_test\n",
    "    print(f'Dependent t-test for blocks {d9_blocks[i]} and {d9_blocks[i+1]}. P-value: {p_value:.3f}{get_stars(p_value)}, t-value: {t_value:.3f}.')"
   ]
  },
  {
   "cell_type": "code",
   "execution_count": 13,
   "id": "bd5a4ead",
   "metadata": {
    "scrolled": true
   },
   "outputs": [
    {
     "name": "stdout",
     "output_type": "stream",
     "text": [
      "One-sample t-test for 227_230. H0: pop.mean = 0. P-value :0.290, t-value: 1.083.\n",
      "One-sample t-test for 232_235. H0: pop.mean = 0. P-value :0.000***, t-value: -5.834.\n",
      "One-sample t-test for 237_240. H0: pop.mean = 0. P-value :0.015*, t-value: 2.627.\n",
      "One-sample t-test for 242_245. H0: pop.mean = 0. P-value :0.000***, t-value: -4.429.\n"
     ]
    }
   ],
   "source": [
    "for b in d9_blocks:\n",
    "    subset = iHMM_data.loc[iHMM_data['e_test'] == b]['diff']\n",
    "    t_test = sp.stats.ttest_1samp(subset, popmean=0)\n",
    "    t_value, p_value = t_test\n",
    "    print(f'One-sample t-test for {b}. H0: pop.mean = 0. P-value :' \\\n",
    "    f'{p_value:.3f}{get_stars(p_value)}, t-value: {t_value:.3f}.')\n"
   ]
  },
  {
   "cell_type": "code",
   "execution_count": 14,
   "id": "1c9406a2",
   "metadata": {},
   "outputs": [],
   "source": [
    "labels = ['Task 1',\n",
    "          'Task 2',\n",
    "          'Task 1',\n",
    "          'Task 2',\n",
    "          'Task 1',\n",
    "          'Task 2']\n",
    "\n",
    "colors = ['royalblue', 'gold']*3"
   ]
  },
  {
   "cell_type": "code",
   "execution_count": 15,
   "id": "7d1e33eb",
   "metadata": {
    "scrolled": false
   },
   "outputs": [
    {
     "data": {
      "image/png": "[encoded data removed]",
      "text/plain": [
       "<Figure size 460.8x345.6 with 1 Axes>"
      ]
     },
     "metadata": {},
     "output_type": "display_data"
    }
   ],
   "source": [
    "fig, axs = plt.subplots(1,1, sharex=False, sharey=True, figsize = pp.figsize) \n",
    "sns_plot = sns.boxplot(x=\"e_test\", y=\"diff\", data=iHMM_data, color = '#4dc4ff')\n",
    "sns_plot.set_xlabel(None)\n",
    "sns_plot.set_ylabel(\"Relative performance\" , loc = (\"top\"), fontsize = pp.axlabsize)\n",
    "sns_plot.set_xlim(-0.5, None)\n",
    "                     \n",
    "plt.yticks(fontsize = pp.ticklabsize)\n",
    "\n",
    "\n",
    "\n",
    "#####################################\n",
    "######## Axes\n",
    "#####################################\n",
    "\n",
    "sns_plot.spines[\"top\"].set_visible(False)\n",
    "sns_plot.spines[\"right\"].set_visible(False)\n",
    "#sns_plot.spines[\"left\"].set_visible(False)\n",
    "\n",
    "\n",
    "#####################################\n",
    "######## Vertical lines & shading\n",
    "#####################################\n",
    "\n",
    "plt.axvline(1.5, ymax = 0.87, c = 'brown')\n",
    "plt.axvline(0.5, ymax = 0.87, c = 'brown')\n",
    "plt.axhline(0, c = 'grey', linestyle='--', linewidth = 1)\n",
    "plt.axvspan(-0.5, 1.5, ymax = 0.87, facecolor='lightseagreen', alpha=0.1)\n",
    "\n",
    "\n",
    "################################################################################\n",
    "############################ Significance notations ############################\n",
    "################################################################################\n",
    "\n",
    "plt.axhline(y = .3, xmin = 0.425, xmax = 0.575, color = 'black', lw = 1)\n",
    "plt.axhline(y = .3, xmin = 0.592, xmax = 0.742, color = 'black', lw = 1)\n",
    "plt.axhline(y = .3, xmin = 0.759, xmax = 0.908, color = 'black', lw = 1)\n",
    "\n",
    "ymax = 0.755\n",
    "\n",
    "plt.axvline(x = 2.05, ymax = ymax, ymin = ymax -0.02, color = 'black', lw = 1)\n",
    "plt.axvline(x = 2.95, ymax = ymax, ymin = ymax -0.02, color = 'black', lw = 1)\n",
    "plt.axvline(x = 3.05, ymax = ymax, ymin = ymax -0.02, color = 'black', lw = 1)\n",
    "plt.axvline(x = 3.95, ymax = ymax, ymin = ymax -0.02, color = 'black', lw = 1)\n",
    "plt.axvline(x = 4.05, ymax = ymax, ymin = ymax -0.02, color = 'black', lw = 1)\n",
    "plt.axvline(x = 4.95, ymax = ymax, ymin = ymax -0.02, color = 'black', lw = 1)\n",
    "\n",
    "\n",
    "#####################################\n",
    "######## Stars at the top ########\n",
    "#####################################\n",
    "\n",
    "plt.text(2.325, 0.3,'***', size = 20)\n",
    "plt.text(3.308, 0.3,'***', size = 20)\n",
    "plt.text(4.284, 0.3,'***', size = 20)\n",
    "\n",
    "# fontdict for curly bracket 1 text\n",
    "font = {'family': 'serif',\n",
    "        'color':  'black',\n",
    "#        'weight': 'bold',\n",
    "        'style': 'normal',\n",
    "        'size': pp.ticklabsize,\n",
    "        }\n",
    "\n",
    "\n",
    "y =0.42\n",
    "\n",
    "\n",
    "\n",
    "\n",
    "########################\n",
    "####### D10 Curly\n",
    "########################\n",
    "p1 = [1.56, y]\n",
    "p2 = [2.0* 2.7, y]\n",
    "k_r1 = 0.05\n",
    "\n",
    "curlyBrace(fig, axs, p1, p2, k_r1, bool_auto=True, str_text='D10', \n",
    "           color = 'black', lw=0.5, int_line_num=1, fontdict=font)\n",
    "\n",
    "\n",
    "########################\n",
    "####### D8 Curly\n",
    "########################\n",
    "p1 = [-0.47, y]\n",
    "p2 = [2.0* 0.24, y]\n",
    "k_r1 = 0.12\n",
    "curlyBrace(fig, axs, p1, p2, k_r1, bool_auto=True, str_text='D8', \n",
    "           color = 'black', lw=0.5, int_line_num=1, fontdict=font)\n",
    "\n",
    "\n",
    "p1 = [0.52, y]\n",
    "p2 = [2.0* 0.735, y]\n",
    "k_r1 = 0.12\n",
    "\n",
    "\n",
    "curlyBrace(fig, axs, p1, p2, k_r1, bool_auto=True, str_text='D9', \n",
    "           color = 'black', lw=0.5, int_line_num=1, fontdict=font)\n",
    "\n",
    "\n",
    "##############################################\n",
    "############ Stars at the bottom ############\n",
    "##############################################\n",
    "\n",
    "plt.text(1.81, -0.4,'', size = 20)\n",
    "plt.text(2.81, -0.4,'***', size = 20)\n",
    "plt.text(3.91, -0.4,'*', size = 20)\n",
    "plt.text(4.81, -0.4,'***', size = 20)\n",
    "\n",
    "\n",
    "\n",
    "sns_plot.set_xticks(np.arange(len(labels)))\n",
    "sns_plot.set_xticklabels(labels, fontsize = pp.ticklabsize, rotation=30);\n",
    "for xtick, color in zip(sns_plot.get_xticklabels(), colors):\n",
    "    xtick.set_color(color)\n"
   ]
  },
  {
   "cell_type": "code",
   "execution_count": 16,
   "id": "97cf17fe",
   "metadata": {},
   "outputs": [],
   "source": [
    "fig.savefig(paths.plot_save_path +'/manuscript_plots_standard/' +'fliplflop.pdf', bbox_inches='tight')\n",
    "fig.savefig(paths.plot_save_path +'/manuscript_plots_standard/' +'fliplflop.png', bbox_inches='tight')"
   ]
  }
 ],
 "metadata": {
  "kernelspec": {
   "display_name": "Python 3 (ipykernel)",
   "language": "python",
   "name": "python3"
  },
  "language_info": {
   "codemirror_mode": {
    "name": "ipython",
    "version": 3
   },
   "file_extension": ".py",
   "mimetype": "text/x-python",
   "name": "python",
   "nbconvert_exporter": "python",
   "pygments_lexer": "ipython3",
   "version": "3.9.7"
  }
 },
 "nbformat": 4,
 "nbformat_minor": 5
}
