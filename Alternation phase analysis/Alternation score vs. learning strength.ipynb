{
 "cells": [
  {
   "cell_type": "markdown",
   "id": "0bfd67ff",
   "metadata": {},
   "source": [
    "# Alternation score vs. learning strength"
   ]
  },
  {
   "cell_type": "code",
   "execution_count": 3,
   "id": "8ad68ed3",
   "metadata": {
    "scrolled": true
   },
   "outputs": [],
   "source": [
    "import pandas as pd\n",
    "import numpy as np\n",
    "import time \n",
    "import matplotlib.pyplot as plt\n",
    "import seaborn as sns\n",
    "import scipy as sp\n",
    "import sys\n",
    "sys.path.append('../..')\n",
    "from data_import import*\n",
    "from helper import*\n",
    "from scipy.stats import zscore\n",
    "import copy\n",
    "from plot_params import*\n",
    "from paths import*\n",
    "\n",
    "pp = PlotParams()\n",
    "paths = paths()"
   ]
  },
  {
   "cell_type": "code",
   "execution_count": 5,
   "id": "ae48ddeb",
   "metadata": {},
   "outputs": [],
   "source": [
    "f4_path = paths.f4_path+ 'NOGTHSH/'\n",
    "figsave_loc = paths.plot_save_path + 'D10/'"
   ]
  },
  {
   "cell_type": "code",
   "execution_count": 6,
   "id": "046e75d9",
   "metadata": {},
   "outputs": [],
   "source": [
    "def corr_computation(data):\n",
    "    corr_matrix = (data\n",
    "                           .groupby(['model', 'participant', 'e_train', 'e_test', 'day'])\n",
    "                           [['rt','rt_predicted']]\n",
    "                           .corr())\n",
    "\n",
    "    corr_matrix.reset_index(inplace = True)\n",
    "    corr_matrix.drop(['level_5', 'rt'], axis = 1, inplace = True)\n",
    "    matrix = corr_matrix.loc[corr_matrix['rt_predicted'] !=1]\n",
    "    matrix['r_sqr'] = matrix.rt_predicted**2\n",
    "    matrix.drop('rt_predicted', axis = 1, inplace = True)\n",
    "    data = matrix.set_index(['model', 'participant', 'e_test'])\n",
    "    return (data)"
   ]
  },
  {
   "cell_type": "code",
   "execution_count": 8,
   "id": "2fe99437",
   "metadata": {
    "scrolled": false
   },
   "outputs": [],
   "source": [
    "data = import_and_transform_data(f4_path, 'NOGTHSH_LEARNING_CURVES_d10_NOG_218_225_4chain_23_09_14.csv')\n",
    "data_tag, data = data"
   ]
  },
  {
   "cell_type": "code",
   "execution_count": 9,
   "id": "69db09aa",
   "metadata": {
    "scrolled": true
   },
   "outputs": [],
   "source": [
    "data_with_cutoff = corr_computation(drop_RTs_above_3std_below_180(data))"
   ]
  },
  {
   "cell_type": "code",
   "execution_count": 11,
   "id": "67b7f352",
   "metadata": {
    "scrolled": true
   },
   "outputs": [],
   "source": [
    "## Reorganise the data\n",
    "zigzag_score = data_with_cutoff.loc['iHMM']\n",
    "zigzag_score = zigzag_score.reset_index().set_index(['day', 'participant', 'e_test'])\n",
    "zigzag_score = zigzag_score.unstack(0).drop('e_train', axis = 1)\n",
    "zigzag_score.columns = ['day_8_model', 'day_9_model']"
   ]
  },
  {
   "cell_type": "code",
   "execution_count": 12,
   "id": "eb33fa31",
   "metadata": {},
   "outputs": [],
   "source": [
    "## Remove the shared variance, centering the data\n",
    "zigzag_score['avg_r_sqr'] =  zigzag_score[['day_8_model', 'day_9_model']].mean(axis = 1)\n",
    "zigzag_score['day_8_cent'] = zigzag_score['day_8_model'] - zigzag_score['avg_r_sqr']\n",
    "zigzag_score['day_9_cent'] = zigzag_score['day_9_model'] - zigzag_score['avg_r_sqr']"
   ]
  },
  {
   "cell_type": "markdown",
   "id": "57c8e904",
   "metadata": {},
   "source": [
    "## Compute an alternation score"
   ]
  },
  {
   "cell_type": "markdown",
   "id": "a3b2e788",
   "metadata": {},
   "source": [
    "The goal is to compute an alternation score, which helps to compare \"zigzaging\" between participants. \n",
    "\n",
    "To get the alternation score, I substract the non-corrsponding models' z-score from the corresponding models z-score. This means for blocks 227_230 and 237_240 CT_D8-CT_D9, and for 232_235 and 242_245 CT_D9-CT_D8."
   ]
  },
  {
   "cell_type": "code",
   "execution_count": 13,
   "id": "da2412a3",
   "metadata": {
    "scrolled": false
   },
   "outputs": [
    {
     "name": "stdout",
     "output_type": "stream",
     "text": [
      "zigzagscore   -0.19615\n",
      "dtype: float64\n",
      "zigzagscore    0.338366\n",
      "dtype: float64\n"
     ]
    }
   ],
   "source": [
    "zigzag_score.reset_index(inplace=True)\n",
    "zigzag_score.loc[zigzag_score['e_test'].isin(['227_230', '237_240']), 'zigzagscore'] = zigzag_score['day_8_cent'] - zigzag_score['day_9_cent']\n",
    "zigzag_score.loc[zigzag_score['e_test'].isin(['232_235', '242_245']), 'zigzagscore'] = zigzag_score['day_9_cent'] - zigzag_score['day_8_cent']\n",
    "\n",
    "print(zigzag_score[['zigzagscore']].min())\n",
    "print(zigzag_score[['zigzagscore']].max())"
   ]
  },
  {
   "cell_type": "code",
   "execution_count": 14,
   "id": "41e5a4d0",
   "metadata": {},
   "outputs": [],
   "source": [
    "zigzag_score.set_index(['participant', 'e_test'], inplace=True)\n",
    "zigzag_score.reset_index(inplace=True)\n",
    "zigzag_score = zigzag_score[['participant', 'zigzagscore']].groupby('participant').sum()"
   ]
  },
  {
   "cell_type": "markdown",
   "id": "d74ae909",
   "metadata": {},
   "source": [
    "## ALTERNTION SCORE VS. LEARNING STRENGTH"
   ]
  },
  {
   "cell_type": "code",
   "execution_count": 15,
   "id": "46a4bd0a",
   "metadata": {
    "scrolled": false
   },
   "outputs": [],
   "source": [
    "LS = pd.read_csv(paths.local_data +'/LS_mean_D5_D8_recalc.csv')\n",
    "LS.rename(columns={'LS_mean_d5_d8': 'LS'}, inplace=True)\n",
    "LS.participant = LS.participant.astype('int')\n",
    "LS.set_index('participant', inplace = True)\n",
    "LS.head()\n",
    "\n",
    "LS_zigzag = pd.merge(LS, zigzag_score, left_index=True, right_index=True)"
   ]
  },
  {
   "cell_type": "code",
   "execution_count": 16,
   "id": "8b1c6e8d",
   "metadata": {
    "scrolled": false
   },
   "outputs": [
    {
     "name": "stdout",
     "output_type": "stream",
     "text": [
      "r=0.473, p=0.017*\n"
     ]
    },
    {
     "data": {
      "image/png": "[encoded data removed]",
      "text/plain": [
       "<Figure size 460.8x345.6 with 1 Axes>"
      ]
     },
     "metadata": {},
     "output_type": "display_data"
    }
   ],
   "source": [
    "fig, axs = plt.subplots(1, 1, figsize = pp.figsize, facecolor = 'white')\n",
    "sns_plot = sns.regplot(data = LS_zigzag, x = 'LS', y = 'zigzagscore', color = pp.basic_color)\n",
    "\n",
    "r, p = sp.stats.pearsonr(x=LS_zigzag.LS, y=LS_zigzag.zigzagscore)\n",
    "\n",
    "ticklabel_fontsize = pp.ticklabsize\n",
    "axlabel_fontsize = pp.axlabsize\n",
    "\n",
    "\n",
    "### Axes, ax labels \n",
    "sns_plot.set_ylabel(\"Alternation score\", fontsize = axlabel_fontsize)\n",
    "sns_plot.set_yticks([0, 0.25, 0.5])\n",
    "sns_plot.set_yticklabels([0, 2.5, 5], fontsize = ticklabel_fontsize)\n",
    "sns_plot.set_xlabel(\"Learning strength\", fontsize = axlabel_fontsize)\n",
    "sns_plot.set_xticks([0, 0.1])\n",
    "sns_plot.set_xticklabels([0, 0.1], fontsize = ticklabel_fontsize)\n",
    "\n",
    "\n",
    "sns_plot.spines.right.set_visible(False)\n",
    "sns_plot.spines.top.set_visible(False)\n",
    "\n",
    "print ('r={:.3f}, p={:.3f}{}'.format(r, p, get_stars(p)))"
   ]
  },
  {
   "cell_type": "code",
   "execution_count": 17,
   "id": "29b1c455",
   "metadata": {},
   "outputs": [],
   "source": [
    "fig.savefig(paths.plot_save_path +'/manuscript_plots_standard/' +'zigzag_score.pdf', bbox_inches='tight')\n",
    "fig.savefig(paths.plot_save_path +'/manuscript_plots_standard/' +'zigzag_score.png', bbox_inches='tight')"
   ]
  }
 ],
 "metadata": {
  "kernelspec": {
   "display_name": "Python 3 (ipykernel)",
   "language": "python",
   "name": "python3"
  },
  "language_info": {
   "codemirror_mode": {
    "name": "ipython",
    "version": 3
   },
   "file_extension": ".py",
   "mimetype": "text/x-python",
   "name": "python",
   "nbconvert_exporter": "python",
   "pygments_lexer": "ipython3",
   "version": "3.9.7"
  }
 },
 "nbformat": 4,
 "nbformat_minor": 5
}
